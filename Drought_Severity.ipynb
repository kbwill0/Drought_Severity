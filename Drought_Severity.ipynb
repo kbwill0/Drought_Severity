{
  "nbformat": 4,
  "nbformat_minor": 0,
  "metadata": {
    "colab": {
      "name": "William_Vong_CIS4321_FinalProject",
      "provenance": [],
      "collapsed_sections": [
        "7FwDqnEiT_Zw",
        "OdASF_0Ga9kt",
        "3BXpzzi_epDI",
        "c1pnJjKUJ9a2",
        "wRBFzWVbCSEh",
        "-ChCPvxPbAxN"
      ]
    },
    "kernelspec": {
      "display_name": "Python 3",
      "name": "python3"
    },
    "language_info": {
      "name": "python"
    }
  },
  "cells": [
    {
      "cell_type": "markdown",
      "metadata": {
        "id": "jkEOOsWbAcOv"
      },
      "source": [
        "Note: The entire notebook may take around five minutes to run because the dataset is large. The fit methods will take the longest."
      ]
    },
    {
      "cell_type": "code",
      "metadata": {
        "id": "H9CsGTRIfoZJ"
      },
      "source": [
        "# Setup The Notebook\n",
        "%matplotlib inline \n",
        "import seaborn as sns\n",
        "sns.set(style='whitegrid', palette=\"deep\", font_scale=1.1, rc={\"figure.figsize\": [15, 10]})\n",
        "import matplotlib.pyplot as plt\n",
        "import numpy as np\n",
        "import pandas as pd\n",
        "import warnings\n",
        "warnings.filterwarnings('ignore')"
      ],
      "execution_count": null,
      "outputs": []
    },
    {
      "cell_type": "code",
      "metadata": {
        "colab": {
          "base_uri": "https://localhost:8080/"
        },
        "id": "Ud2oPtmujnJc",
        "outputId": "7a8b6e6a-05be-4332-f0ae-dffdd6947ddb"
      },
      "source": [
        "#Connect Drive and Import Packages\n",
        "from google.colab import drive\n",
        "drive.mount('/content/drive')"
      ],
      "execution_count": null,
      "outputs": [
        {
          "output_type": "stream",
          "text": [
            "Drive already mounted at /content/drive; to attempt to forcibly remount, call drive.mount(\"/content/drive\", force_remount=True).\n"
          ],
          "name": "stdout"
        }
      ]
    },
    {
      "cell_type": "code",
      "metadata": {
        "colab": {
          "base_uri": "https://localhost:8080/",
          "height": 388
        },
        "id": "qmqgJ2YRjYVv",
        "outputId": "4d6dd712-30a9-4ee1-99b3-e495ec513ad8"
      },
      "source": [
        "#Locate, Upload, Read, and Display Raw CSV Data File \n",
        "droughtcsv = \"/content/drive/MyDrive/4321 Colab Notebooks/drought.csv\"\n",
        "drought = pd.read_csv(droughtcsv)\n",
        "drought"
      ],
      "execution_count": null,
      "outputs": [
        {
          "output_type": "execute_result",
          "data": {
            "text/html": [
              "<div>\n",
              "<style scoped>\n",
              "    .dataframe tbody tr th:only-of-type {\n",
              "        vertical-align: middle;\n",
              "    }\n",
              "\n",
              "    .dataframe tbody tr th {\n",
              "        vertical-align: top;\n",
              "    }\n",
              "\n",
              "    .dataframe thead th {\n",
              "        text-align: right;\n",
              "    }\n",
              "</style>\n",
              "<table border=\"1\" class=\"dataframe\">\n",
              "  <thead>\n",
              "    <tr style=\"text-align: right;\">\n",
              "      <th></th>\n",
              "      <th>fips</th>\n",
              "      <th>date</th>\n",
              "      <th>PRECTOT</th>\n",
              "      <th>PS</th>\n",
              "      <th>QV2M</th>\n",
              "      <th>T2M</th>\n",
              "      <th>T2MDEW</th>\n",
              "      <th>T2MWET</th>\n",
              "      <th>T2M_MAX</th>\n",
              "      <th>T2M_MIN</th>\n",
              "      <th>T2M_RANGE</th>\n",
              "      <th>TS</th>\n",
              "      <th>WS10M</th>\n",
              "      <th>WS10M_MAX</th>\n",
              "      <th>WS10M_MIN</th>\n",
              "      <th>WS10M_RANGE</th>\n",
              "      <th>WS50M</th>\n",
              "      <th>WS50M_MAX</th>\n",
              "      <th>WS50M_MIN</th>\n",
              "      <th>WS50M_RANGE</th>\n",
              "      <th>score</th>\n",
              "    </tr>\n",
              "  </thead>\n",
              "  <tbody>\n",
              "    <tr>\n",
              "      <th>0</th>\n",
              "      <td>1001</td>\n",
              "      <td>2019-01-01</td>\n",
              "      <td>2.25</td>\n",
              "      <td>100.51</td>\n",
              "      <td>9.69</td>\n",
              "      <td>14.71</td>\n",
              "      <td>13.55</td>\n",
              "      <td>13.52</td>\n",
              "      <td>17.38</td>\n",
              "      <td>10.92</td>\n",
              "      <td>6.46</td>\n",
              "      <td>14.63</td>\n",
              "      <td>1.20</td>\n",
              "      <td>1.50</td>\n",
              "      <td>0.79</td>\n",
              "      <td>0.71</td>\n",
              "      <td>2.74</td>\n",
              "      <td>4.01</td>\n",
              "      <td>1.23</td>\n",
              "      <td>2.78</td>\n",
              "      <td>0.0000</td>\n",
              "    </tr>\n",
              "    <tr>\n",
              "      <th>1</th>\n",
              "      <td>1001</td>\n",
              "      <td>2019-01-02</td>\n",
              "      <td>4.94</td>\n",
              "      <td>100.48</td>\n",
              "      <td>8.65</td>\n",
              "      <td>13.05</td>\n",
              "      <td>11.83</td>\n",
              "      <td>11.74</td>\n",
              "      <td>17.76</td>\n",
              "      <td>9.54</td>\n",
              "      <td>8.23</td>\n",
              "      <td>13.06</td>\n",
              "      <td>1.02</td>\n",
              "      <td>1.35</td>\n",
              "      <td>0.32</td>\n",
              "      <td>1.03</td>\n",
              "      <td>2.13</td>\n",
              "      <td>3.37</td>\n",
              "      <td>0.56</td>\n",
              "      <td>2.81</td>\n",
              "      <td>NaN</td>\n",
              "    </tr>\n",
              "    <tr>\n",
              "      <th>2</th>\n",
              "      <td>1001</td>\n",
              "      <td>2019-01-03</td>\n",
              "      <td>20.74</td>\n",
              "      <td>100.03</td>\n",
              "      <td>8.59</td>\n",
              "      <td>12.12</td>\n",
              "      <td>11.67</td>\n",
              "      <td>11.67</td>\n",
              "      <td>13.74</td>\n",
              "      <td>10.44</td>\n",
              "      <td>3.30</td>\n",
              "      <td>12.12</td>\n",
              "      <td>1.83</td>\n",
              "      <td>4.23</td>\n",
              "      <td>0.34</td>\n",
              "      <td>3.88</td>\n",
              "      <td>3.41</td>\n",
              "      <td>7.49</td>\n",
              "      <td>0.72</td>\n",
              "      <td>6.77</td>\n",
              "      <td>NaN</td>\n",
              "    </tr>\n",
              "    <tr>\n",
              "      <th>3</th>\n",
              "      <td>1001</td>\n",
              "      <td>2019-01-04</td>\n",
              "      <td>16.17</td>\n",
              "      <td>99.47</td>\n",
              "      <td>7.93</td>\n",
              "      <td>11.80</td>\n",
              "      <td>10.38</td>\n",
              "      <td>9.59</td>\n",
              "      <td>18.19</td>\n",
              "      <td>5.44</td>\n",
              "      <td>12.75</td>\n",
              "      <td>11.72</td>\n",
              "      <td>3.75</td>\n",
              "      <td>5.25</td>\n",
              "      <td>2.34</td>\n",
              "      <td>2.91</td>\n",
              "      <td>6.78</td>\n",
              "      <td>9.61</td>\n",
              "      <td>4.90</td>\n",
              "      <td>4.71</td>\n",
              "      <td>NaN</td>\n",
              "    </tr>\n",
              "    <tr>\n",
              "      <th>4</th>\n",
              "      <td>1001</td>\n",
              "      <td>2019-01-05</td>\n",
              "      <td>0.01</td>\n",
              "      <td>100.39</td>\n",
              "      <td>5.32</td>\n",
              "      <td>7.91</td>\n",
              "      <td>4.73</td>\n",
              "      <td>4.71</td>\n",
              "      <td>14.37</td>\n",
              "      <td>3.68</td>\n",
              "      <td>10.69</td>\n",
              "      <td>7.75</td>\n",
              "      <td>2.32</td>\n",
              "      <td>2.90</td>\n",
              "      <td>1.69</td>\n",
              "      <td>1.21</td>\n",
              "      <td>4.42</td>\n",
              "      <td>5.87</td>\n",
              "      <td>3.15</td>\n",
              "      <td>2.72</td>\n",
              "      <td>NaN</td>\n",
              "    </tr>\n",
              "    <tr>\n",
              "      <th>...</th>\n",
              "      <td>...</td>\n",
              "      <td>...</td>\n",
              "      <td>...</td>\n",
              "      <td>...</td>\n",
              "      <td>...</td>\n",
              "      <td>...</td>\n",
              "      <td>...</td>\n",
              "      <td>...</td>\n",
              "      <td>...</td>\n",
              "      <td>...</td>\n",
              "      <td>...</td>\n",
              "      <td>...</td>\n",
              "      <td>...</td>\n",
              "      <td>...</td>\n",
              "      <td>...</td>\n",
              "      <td>...</td>\n",
              "      <td>...</td>\n",
              "      <td>...</td>\n",
              "      <td>...</td>\n",
              "      <td>...</td>\n",
              "      <td>...</td>\n",
              "    </tr>\n",
              "    <tr>\n",
              "      <th>2271943</th>\n",
              "      <td>56043</td>\n",
              "      <td>2020-12-27</td>\n",
              "      <td>3.83</td>\n",
              "      <td>82.91</td>\n",
              "      <td>2.77</td>\n",
              "      <td>-3.61</td>\n",
              "      <td>-6.77</td>\n",
              "      <td>-5.19</td>\n",
              "      <td>0.24</td>\n",
              "      <td>-9.07</td>\n",
              "      <td>9.31</td>\n",
              "      <td>-5.88</td>\n",
              "      <td>2.98</td>\n",
              "      <td>6.04</td>\n",
              "      <td>0.72</td>\n",
              "      <td>5.31</td>\n",
              "      <td>4.56</td>\n",
              "      <td>7.68</td>\n",
              "      <td>1.03</td>\n",
              "      <td>6.66</td>\n",
              "      <td>NaN</td>\n",
              "    </tr>\n",
              "    <tr>\n",
              "      <th>2271944</th>\n",
              "      <td>56043</td>\n",
              "      <td>2020-12-28</td>\n",
              "      <td>0.00</td>\n",
              "      <td>83.04</td>\n",
              "      <td>1.82</td>\n",
              "      <td>-7.31</td>\n",
              "      <td>-12.06</td>\n",
              "      <td>-9.68</td>\n",
              "      <td>-1.48</td>\n",
              "      <td>-11.51</td>\n",
              "      <td>10.03</td>\n",
              "      <td>-10.61</td>\n",
              "      <td>1.83</td>\n",
              "      <td>2.81</td>\n",
              "      <td>0.10</td>\n",
              "      <td>2.72</td>\n",
              "      <td>2.52</td>\n",
              "      <td>3.69</td>\n",
              "      <td>0.14</td>\n",
              "      <td>3.56</td>\n",
              "      <td>NaN</td>\n",
              "    </tr>\n",
              "    <tr>\n",
              "      <th>2271945</th>\n",
              "      <td>56043</td>\n",
              "      <td>2020-12-29</td>\n",
              "      <td>0.00</td>\n",
              "      <td>82.78</td>\n",
              "      <td>1.87</td>\n",
              "      <td>-7.38</td>\n",
              "      <td>-11.79</td>\n",
              "      <td>-9.59</td>\n",
              "      <td>-0.88</td>\n",
              "      <td>-11.39</td>\n",
              "      <td>10.51</td>\n",
              "      <td>-10.81</td>\n",
              "      <td>2.70</td>\n",
              "      <td>6.22</td>\n",
              "      <td>0.18</td>\n",
              "      <td>6.04</td>\n",
              "      <td>3.84</td>\n",
              "      <td>7.66</td>\n",
              "      <td>0.29</td>\n",
              "      <td>7.37</td>\n",
              "      <td>3.5182</td>\n",
              "    </tr>\n",
              "    <tr>\n",
              "      <th>2271946</th>\n",
              "      <td>56043</td>\n",
              "      <td>2020-12-30</td>\n",
              "      <td>0.01</td>\n",
              "      <td>82.87</td>\n",
              "      <td>1.57</td>\n",
              "      <td>-6.40</td>\n",
              "      <td>-13.94</td>\n",
              "      <td>-10.17</td>\n",
              "      <td>1.33</td>\n",
              "      <td>-12.16</td>\n",
              "      <td>13.49</td>\n",
              "      <td>-8.74</td>\n",
              "      <td>2.93</td>\n",
              "      <td>4.10</td>\n",
              "      <td>1.62</td>\n",
              "      <td>2.48</td>\n",
              "      <td>4.42</td>\n",
              "      <td>6.05</td>\n",
              "      <td>2.79</td>\n",
              "      <td>3.26</td>\n",
              "      <td>NaN</td>\n",
              "    </tr>\n",
              "    <tr>\n",
              "      <th>2271947</th>\n",
              "      <td>56043</td>\n",
              "      <td>2020-12-31</td>\n",
              "      <td>0.00</td>\n",
              "      <td>82.82</td>\n",
              "      <td>2.13</td>\n",
              "      <td>-3.83</td>\n",
              "      <td>-10.12</td>\n",
              "      <td>-6.98</td>\n",
              "      <td>2.16</td>\n",
              "      <td>-8.57</td>\n",
              "      <td>10.73</td>\n",
              "      <td>-6.61</td>\n",
              "      <td>2.16</td>\n",
              "      <td>3.72</td>\n",
              "      <td>0.31</td>\n",
              "      <td>3.41</td>\n",
              "      <td>3.39</td>\n",
              "      <td>6.46</td>\n",
              "      <td>0.41</td>\n",
              "      <td>6.06</td>\n",
              "      <td>NaN</td>\n",
              "    </tr>\n",
              "  </tbody>\n",
              "</table>\n",
              "<p>2271948 rows × 21 columns</p>\n",
              "</div>"
            ],
            "text/plain": [
              "          fips        date  PRECTOT  ...  WS50M_MIN  WS50M_RANGE   score\n",
              "0         1001  2019-01-01     2.25  ...       1.23         2.78  0.0000\n",
              "1         1001  2019-01-02     4.94  ...       0.56         2.81     NaN\n",
              "2         1001  2019-01-03    20.74  ...       0.72         6.77     NaN\n",
              "3         1001  2019-01-04    16.17  ...       4.90         4.71     NaN\n",
              "4         1001  2019-01-05     0.01  ...       3.15         2.72     NaN\n",
              "...        ...         ...      ...  ...        ...          ...     ...\n",
              "2271943  56043  2020-12-27     3.83  ...       1.03         6.66     NaN\n",
              "2271944  56043  2020-12-28     0.00  ...       0.14         3.56     NaN\n",
              "2271945  56043  2020-12-29     0.00  ...       0.29         7.37  3.5182\n",
              "2271946  56043  2020-12-30     0.01  ...       2.79         3.26     NaN\n",
              "2271947  56043  2020-12-31     0.00  ...       0.41         6.06     NaN\n",
              "\n",
              "[2271948 rows x 21 columns]"
            ]
          },
          "metadata": {
            "tags": []
          },
          "execution_count": 3
        }
      ]
    },
    {
      "cell_type": "code",
      "metadata": {
        "colab": {
          "base_uri": "https://localhost:8080/"
        },
        "id": "j7kjFUuQz3LC",
        "outputId": "31fe4c65-be30-4017-e9ce-28a03781ea24"
      },
      "source": [
        "#View and Count All Null Values\n",
        "drought.isnull().sum() "
      ],
      "execution_count": null,
      "outputs": [
        {
          "output_type": "execute_result",
          "data": {
            "text/plain": [
              "fips                 0\n",
              "date                 0\n",
              "PRECTOT              0\n",
              "PS                   0\n",
              "QV2M                 0\n",
              "T2M                  0\n",
              "T2MDEW               0\n",
              "T2MWET               0\n",
              "T2M_MAX              0\n",
              "T2M_MIN              0\n",
              "T2M_RANGE            0\n",
              "TS                   0\n",
              "WS10M                0\n",
              "WS10M_MAX            0\n",
              "WS10M_MIN            0\n",
              "WS10M_RANGE          0\n",
              "WS50M                0\n",
              "WS50M_MAX            0\n",
              "WS50M_MIN            0\n",
              "WS50M_RANGE          0\n",
              "score          1945608\n",
              "dtype: int64"
            ]
          },
          "metadata": {
            "tags": []
          },
          "execution_count": 4
        }
      ]
    },
    {
      "cell_type": "code",
      "metadata": {
        "id": "LMeewDYIdWyB"
      },
      "source": [
        "#Drop All Null Rows and Keep All Rows with 0,1,2,3, and 4 in score\n",
        "drought_df = drought.dropna()\n",
        "drought_df = drought_df[drought_df['score'].isin([0,1,2,3,4])]"
      ],
      "execution_count": null,
      "outputs": []
    },
    {
      "cell_type": "code",
      "metadata": {
        "colab": {
          "base_uri": "https://localhost:8080/",
          "height": 388
        },
        "id": "pAbI3H0afKo3",
        "outputId": "ebb92f48-eeb5-4a2a-a347-ecf8dce655c3"
      },
      "source": [
        "#Display Clean Data\n",
        "drought_df"
      ],
      "execution_count": null,
      "outputs": [
        {
          "output_type": "execute_result",
          "data": {
            "text/html": [
              "<div>\n",
              "<style scoped>\n",
              "    .dataframe tbody tr th:only-of-type {\n",
              "        vertical-align: middle;\n",
              "    }\n",
              "\n",
              "    .dataframe tbody tr th {\n",
              "        vertical-align: top;\n",
              "    }\n",
              "\n",
              "    .dataframe thead th {\n",
              "        text-align: right;\n",
              "    }\n",
              "</style>\n",
              "<table border=\"1\" class=\"dataframe\">\n",
              "  <thead>\n",
              "    <tr style=\"text-align: right;\">\n",
              "      <th></th>\n",
              "      <th>fips</th>\n",
              "      <th>date</th>\n",
              "      <th>PRECTOT</th>\n",
              "      <th>PS</th>\n",
              "      <th>QV2M</th>\n",
              "      <th>T2M</th>\n",
              "      <th>T2MDEW</th>\n",
              "      <th>T2MWET</th>\n",
              "      <th>T2M_MAX</th>\n",
              "      <th>T2M_MIN</th>\n",
              "      <th>T2M_RANGE</th>\n",
              "      <th>TS</th>\n",
              "      <th>WS10M</th>\n",
              "      <th>WS10M_MAX</th>\n",
              "      <th>WS10M_MIN</th>\n",
              "      <th>WS10M_RANGE</th>\n",
              "      <th>WS50M</th>\n",
              "      <th>WS50M_MAX</th>\n",
              "      <th>WS50M_MIN</th>\n",
              "      <th>WS50M_RANGE</th>\n",
              "      <th>score</th>\n",
              "    </tr>\n",
              "  </thead>\n",
              "  <tbody>\n",
              "    <tr>\n",
              "      <th>0</th>\n",
              "      <td>1001</td>\n",
              "      <td>2019-01-01</td>\n",
              "      <td>2.25</td>\n",
              "      <td>100.51</td>\n",
              "      <td>9.69</td>\n",
              "      <td>14.71</td>\n",
              "      <td>13.55</td>\n",
              "      <td>13.52</td>\n",
              "      <td>17.38</td>\n",
              "      <td>10.92</td>\n",
              "      <td>6.46</td>\n",
              "      <td>14.63</td>\n",
              "      <td>1.20</td>\n",
              "      <td>1.50</td>\n",
              "      <td>0.79</td>\n",
              "      <td>0.71</td>\n",
              "      <td>2.74</td>\n",
              "      <td>4.01</td>\n",
              "      <td>1.23</td>\n",
              "      <td>2.78</td>\n",
              "      <td>0.0</td>\n",
              "    </tr>\n",
              "    <tr>\n",
              "      <th>7</th>\n",
              "      <td>1001</td>\n",
              "      <td>2019-01-08</td>\n",
              "      <td>0.05</td>\n",
              "      <td>100.57</td>\n",
              "      <td>8.75</td>\n",
              "      <td>13.15</td>\n",
              "      <td>12.01</td>\n",
              "      <td>11.98</td>\n",
              "      <td>20.04</td>\n",
              "      <td>9.36</td>\n",
              "      <td>10.68</td>\n",
              "      <td>13.05</td>\n",
              "      <td>2.33</td>\n",
              "      <td>3.40</td>\n",
              "      <td>1.68</td>\n",
              "      <td>1.72</td>\n",
              "      <td>5.13</td>\n",
              "      <td>6.51</td>\n",
              "      <td>3.67</td>\n",
              "      <td>2.85</td>\n",
              "      <td>0.0</td>\n",
              "    </tr>\n",
              "    <tr>\n",
              "      <th>14</th>\n",
              "      <td>1001</td>\n",
              "      <td>2019-01-15</td>\n",
              "      <td>0.00</td>\n",
              "      <td>101.07</td>\n",
              "      <td>4.04</td>\n",
              "      <td>3.91</td>\n",
              "      <td>0.94</td>\n",
              "      <td>0.96</td>\n",
              "      <td>9.40</td>\n",
              "      <td>1.02</td>\n",
              "      <td>8.38</td>\n",
              "      <td>3.91</td>\n",
              "      <td>1.73</td>\n",
              "      <td>2.40</td>\n",
              "      <td>1.36</td>\n",
              "      <td>1.04</td>\n",
              "      <td>3.28</td>\n",
              "      <td>4.13</td>\n",
              "      <td>2.39</td>\n",
              "      <td>1.75</td>\n",
              "      <td>0.0</td>\n",
              "    </tr>\n",
              "    <tr>\n",
              "      <th>21</th>\n",
              "      <td>1001</td>\n",
              "      <td>2019-01-22</td>\n",
              "      <td>0.03</td>\n",
              "      <td>101.14</td>\n",
              "      <td>4.96</td>\n",
              "      <td>6.03</td>\n",
              "      <td>3.81</td>\n",
              "      <td>3.08</td>\n",
              "      <td>12.43</td>\n",
              "      <td>-1.63</td>\n",
              "      <td>14.06</td>\n",
              "      <td>6.08</td>\n",
              "      <td>3.68</td>\n",
              "      <td>4.57</td>\n",
              "      <td>2.49</td>\n",
              "      <td>2.07</td>\n",
              "      <td>6.65</td>\n",
              "      <td>8.56</td>\n",
              "      <td>5.01</td>\n",
              "      <td>3.55</td>\n",
              "      <td>0.0</td>\n",
              "    </tr>\n",
              "    <tr>\n",
              "      <th>28</th>\n",
              "      <td>1001</td>\n",
              "      <td>2019-01-29</td>\n",
              "      <td>5.79</td>\n",
              "      <td>100.36</td>\n",
              "      <td>3.69</td>\n",
              "      <td>2.23</td>\n",
              "      <td>-0.41</td>\n",
              "      <td>-1.03</td>\n",
              "      <td>7.33</td>\n",
              "      <td>-5.19</td>\n",
              "      <td>12.52</td>\n",
              "      <td>2.18</td>\n",
              "      <td>3.10</td>\n",
              "      <td>4.52</td>\n",
              "      <td>1.71</td>\n",
              "      <td>2.81</td>\n",
              "      <td>5.62</td>\n",
              "      <td>6.96</td>\n",
              "      <td>3.60</td>\n",
              "      <td>3.35</td>\n",
              "      <td>0.0</td>\n",
              "    </tr>\n",
              "    <tr>\n",
              "      <th>...</th>\n",
              "      <td>...</td>\n",
              "      <td>...</td>\n",
              "      <td>...</td>\n",
              "      <td>...</td>\n",
              "      <td>...</td>\n",
              "      <td>...</td>\n",
              "      <td>...</td>\n",
              "      <td>...</td>\n",
              "      <td>...</td>\n",
              "      <td>...</td>\n",
              "      <td>...</td>\n",
              "      <td>...</td>\n",
              "      <td>...</td>\n",
              "      <td>...</td>\n",
              "      <td>...</td>\n",
              "      <td>...</td>\n",
              "      <td>...</td>\n",
              "      <td>...</td>\n",
              "      <td>...</td>\n",
              "      <td>...</td>\n",
              "      <td>...</td>\n",
              "    </tr>\n",
              "    <tr>\n",
              "      <th>2271700</th>\n",
              "      <td>56043</td>\n",
              "      <td>2020-04-28</td>\n",
              "      <td>0.33</td>\n",
              "      <td>83.54</td>\n",
              "      <td>3.92</td>\n",
              "      <td>8.74</td>\n",
              "      <td>-2.14</td>\n",
              "      <td>-2.26</td>\n",
              "      <td>14.28</td>\n",
              "      <td>3.06</td>\n",
              "      <td>11.22</td>\n",
              "      <td>9.03</td>\n",
              "      <td>5.04</td>\n",
              "      <td>9.76</td>\n",
              "      <td>1.22</td>\n",
              "      <td>8.54</td>\n",
              "      <td>6.82</td>\n",
              "      <td>11.75</td>\n",
              "      <td>1.66</td>\n",
              "      <td>10.09</td>\n",
              "      <td>0.0</td>\n",
              "    </tr>\n",
              "    <tr>\n",
              "      <th>2271735</th>\n",
              "      <td>56043</td>\n",
              "      <td>2020-06-02</td>\n",
              "      <td>0.33</td>\n",
              "      <td>83.48</td>\n",
              "      <td>8.59</td>\n",
              "      <td>18.92</td>\n",
              "      <td>9.00</td>\n",
              "      <td>8.96</td>\n",
              "      <td>24.11</td>\n",
              "      <td>12.46</td>\n",
              "      <td>11.65</td>\n",
              "      <td>20.39</td>\n",
              "      <td>2.47</td>\n",
              "      <td>3.89</td>\n",
              "      <td>1.66</td>\n",
              "      <td>2.23</td>\n",
              "      <td>3.72</td>\n",
              "      <td>7.56</td>\n",
              "      <td>1.85</td>\n",
              "      <td>5.71</td>\n",
              "      <td>1.0</td>\n",
              "    </tr>\n",
              "    <tr>\n",
              "      <th>2271749</th>\n",
              "      <td>56043</td>\n",
              "      <td>2020-06-16</td>\n",
              "      <td>1.13</td>\n",
              "      <td>82.50</td>\n",
              "      <td>6.45</td>\n",
              "      <td>17.64</td>\n",
              "      <td>4.57</td>\n",
              "      <td>4.50</td>\n",
              "      <td>26.29</td>\n",
              "      <td>11.10</td>\n",
              "      <td>15.19</td>\n",
              "      <td>17.80</td>\n",
              "      <td>4.59</td>\n",
              "      <td>11.06</td>\n",
              "      <td>1.15</td>\n",
              "      <td>9.92</td>\n",
              "      <td>6.43</td>\n",
              "      <td>13.50</td>\n",
              "      <td>1.97</td>\n",
              "      <td>11.53</td>\n",
              "      <td>2.0</td>\n",
              "    </tr>\n",
              "    <tr>\n",
              "      <th>2271756</th>\n",
              "      <td>56043</td>\n",
              "      <td>2020-06-23</td>\n",
              "      <td>0.01</td>\n",
              "      <td>83.48</td>\n",
              "      <td>7.16</td>\n",
              "      <td>20.98</td>\n",
              "      <td>6.23</td>\n",
              "      <td>6.26</td>\n",
              "      <td>29.08</td>\n",
              "      <td>10.99</td>\n",
              "      <td>18.09</td>\n",
              "      <td>23.34</td>\n",
              "      <td>2.11</td>\n",
              "      <td>3.10</td>\n",
              "      <td>1.17</td>\n",
              "      <td>1.93</td>\n",
              "      <td>3.28</td>\n",
              "      <td>6.04</td>\n",
              "      <td>1.22</td>\n",
              "      <td>4.82</td>\n",
              "      <td>2.0</td>\n",
              "    </tr>\n",
              "    <tr>\n",
              "      <th>2271763</th>\n",
              "      <td>56043</td>\n",
              "      <td>2020-06-30</td>\n",
              "      <td>2.86</td>\n",
              "      <td>82.74</td>\n",
              "      <td>5.79</td>\n",
              "      <td>14.43</td>\n",
              "      <td>3.11</td>\n",
              "      <td>2.91</td>\n",
              "      <td>19.78</td>\n",
              "      <td>7.99</td>\n",
              "      <td>11.79</td>\n",
              "      <td>15.87</td>\n",
              "      <td>4.10</td>\n",
              "      <td>6.97</td>\n",
              "      <td>0.91</td>\n",
              "      <td>6.06</td>\n",
              "      <td>5.61</td>\n",
              "      <td>8.15</td>\n",
              "      <td>1.63</td>\n",
              "      <td>6.52</td>\n",
              "      <td>2.0</td>\n",
              "    </tr>\n",
              "  </tbody>\n",
              "</table>\n",
              "<p>243071 rows × 21 columns</p>\n",
              "</div>"
            ],
            "text/plain": [
              "          fips        date  PRECTOT  ...  WS50M_MIN  WS50M_RANGE  score\n",
              "0         1001  2019-01-01     2.25  ...       1.23         2.78    0.0\n",
              "7         1001  2019-01-08     0.05  ...       3.67         2.85    0.0\n",
              "14        1001  2019-01-15     0.00  ...       2.39         1.75    0.0\n",
              "21        1001  2019-01-22     0.03  ...       5.01         3.55    0.0\n",
              "28        1001  2019-01-29     5.79  ...       3.60         3.35    0.0\n",
              "...        ...         ...      ...  ...        ...          ...    ...\n",
              "2271700  56043  2020-04-28     0.33  ...       1.66        10.09    0.0\n",
              "2271735  56043  2020-06-02     0.33  ...       1.85         5.71    1.0\n",
              "2271749  56043  2020-06-16     1.13  ...       1.97        11.53    2.0\n",
              "2271756  56043  2020-06-23     0.01  ...       1.22         4.82    2.0\n",
              "2271763  56043  2020-06-30     2.86  ...       1.63         6.52    2.0\n",
              "\n",
              "[243071 rows x 21 columns]"
            ]
          },
          "metadata": {
            "tags": []
          },
          "execution_count": 6
        }
      ]
    },
    {
      "cell_type": "code",
      "metadata": {
        "colab": {
          "base_uri": "https://localhost:8080/"
        },
        "id": "-SDPu4pZfbMl",
        "outputId": "33e706f8-531a-403b-b03e-ad7efaeb4149"
      },
      "source": [
        "#Check for Null Values\n",
        "drought_df.isnull().sum() "
      ],
      "execution_count": null,
      "outputs": [
        {
          "output_type": "execute_result",
          "data": {
            "text/plain": [
              "fips           0\n",
              "date           0\n",
              "PRECTOT        0\n",
              "PS             0\n",
              "QV2M           0\n",
              "T2M            0\n",
              "T2MDEW         0\n",
              "T2MWET         0\n",
              "T2M_MAX        0\n",
              "T2M_MIN        0\n",
              "T2M_RANGE      0\n",
              "TS             0\n",
              "WS10M          0\n",
              "WS10M_MAX      0\n",
              "WS10M_MIN      0\n",
              "WS10M_RANGE    0\n",
              "WS50M          0\n",
              "WS50M_MAX      0\n",
              "WS50M_MIN      0\n",
              "WS50M_RANGE    0\n",
              "score          0\n",
              "dtype: int64"
            ]
          },
          "metadata": {
            "tags": []
          },
          "execution_count": 7
        }
      ]
    },
    {
      "cell_type": "code",
      "metadata": {
        "colab": {
          "base_uri": "https://localhost:8080/"
        },
        "id": "jOBpqGXdbw-l",
        "outputId": "2da1deab-eb7a-4c80-d87a-e1cf808d3e79"
      },
      "source": [
        "#View Information of Data Types \n",
        "drought.info()"
      ],
      "execution_count": null,
      "outputs": [
        {
          "output_type": "stream",
          "text": [
            "<class 'pandas.core.frame.DataFrame'>\n",
            "RangeIndex: 2271948 entries, 0 to 2271947\n",
            "Data columns (total 21 columns):\n",
            " #   Column       Dtype  \n",
            "---  ------       -----  \n",
            " 0   fips         int64  \n",
            " 1   date         object \n",
            " 2   PRECTOT      float64\n",
            " 3   PS           float64\n",
            " 4   QV2M         float64\n",
            " 5   T2M          float64\n",
            " 6   T2MDEW       float64\n",
            " 7   T2MWET       float64\n",
            " 8   T2M_MAX      float64\n",
            " 9   T2M_MIN      float64\n",
            " 10  T2M_RANGE    float64\n",
            " 11  TS           float64\n",
            " 12  WS10M        float64\n",
            " 13  WS10M_MAX    float64\n",
            " 14  WS10M_MIN    float64\n",
            " 15  WS10M_RANGE  float64\n",
            " 16  WS50M        float64\n",
            " 17  WS50M_MAX    float64\n",
            " 18  WS50M_MIN    float64\n",
            " 19  WS50M_RANGE  float64\n",
            " 20  score        float64\n",
            "dtypes: float64(19), int64(1), object(1)\n",
            "memory usage: 364.0+ MB\n"
          ],
          "name": "stdout"
        }
      ]
    },
    {
      "cell_type": "code",
      "metadata": {
        "colab": {
          "base_uri": "https://localhost:8080/",
          "height": 274
        },
        "id": "N793CHcZzhRw",
        "outputId": "83d2b23f-e6ba-4308-bb1e-b09b0acbfd94"
      },
      "source": [
        "#Description for Every Column\n",
        "drought_df.describe()"
      ],
      "execution_count": null,
      "outputs": [
        {
          "output_type": "execute_result",
          "data": {
            "text/html": [
              "<div>\n",
              "<style scoped>\n",
              "    .dataframe tbody tr th:only-of-type {\n",
              "        vertical-align: middle;\n",
              "    }\n",
              "\n",
              "    .dataframe tbody tr th {\n",
              "        vertical-align: top;\n",
              "    }\n",
              "\n",
              "    .dataframe thead th {\n",
              "        text-align: right;\n",
              "    }\n",
              "</style>\n",
              "<table border=\"1\" class=\"dataframe\">\n",
              "  <thead>\n",
              "    <tr style=\"text-align: right;\">\n",
              "      <th></th>\n",
              "      <th>fips</th>\n",
              "      <th>PRECTOT</th>\n",
              "      <th>PS</th>\n",
              "      <th>QV2M</th>\n",
              "      <th>T2M</th>\n",
              "      <th>T2MDEW</th>\n",
              "      <th>T2MWET</th>\n",
              "      <th>T2M_MAX</th>\n",
              "      <th>T2M_MIN</th>\n",
              "      <th>T2M_RANGE</th>\n",
              "      <th>TS</th>\n",
              "      <th>WS10M</th>\n",
              "      <th>WS10M_MAX</th>\n",
              "      <th>WS10M_MIN</th>\n",
              "      <th>WS10M_RANGE</th>\n",
              "      <th>WS50M</th>\n",
              "      <th>WS50M_MAX</th>\n",
              "      <th>WS50M_MIN</th>\n",
              "      <th>WS50M_RANGE</th>\n",
              "      <th>score</th>\n",
              "    </tr>\n",
              "  </thead>\n",
              "  <tbody>\n",
              "    <tr>\n",
              "      <th>count</th>\n",
              "      <td>243071.000000</td>\n",
              "      <td>243071.000000</td>\n",
              "      <td>243071.000000</td>\n",
              "      <td>243071.000000</td>\n",
              "      <td>243071.000000</td>\n",
              "      <td>243071.000000</td>\n",
              "      <td>243071.000000</td>\n",
              "      <td>243071.000000</td>\n",
              "      <td>243071.000000</td>\n",
              "      <td>243071.000000</td>\n",
              "      <td>243071.000000</td>\n",
              "      <td>243071.000000</td>\n",
              "      <td>243071.000000</td>\n",
              "      <td>243071.000000</td>\n",
              "      <td>243071.000000</td>\n",
              "      <td>243071.00000</td>\n",
              "      <td>243071.000000</td>\n",
              "      <td>243071.000000</td>\n",
              "      <td>243071.000000</td>\n",
              "      <td>243071.000000</td>\n",
              "    </tr>\n",
              "    <tr>\n",
              "      <th>mean</th>\n",
              "      <td>30499.361771</td>\n",
              "      <td>2.907717</td>\n",
              "      <td>97.389248</td>\n",
              "      <td>8.152661</td>\n",
              "      <td>12.036261</td>\n",
              "      <td>7.608797</td>\n",
              "      <td>7.622283</td>\n",
              "      <td>17.431350</td>\n",
              "      <td>7.033657</td>\n",
              "      <td>10.397711</td>\n",
              "      <td>12.044944</td>\n",
              "      <td>3.497400</td>\n",
              "      <td>5.105549</td>\n",
              "      <td>1.885445</td>\n",
              "      <td>3.220112</td>\n",
              "      <td>5.47669</td>\n",
              "      <td>7.740827</td>\n",
              "      <td>3.092292</td>\n",
              "      <td>4.648527</td>\n",
              "      <td>0.132122</td>\n",
              "    </tr>\n",
              "    <tr>\n",
              "      <th>std</th>\n",
              "      <td>14713.320091</td>\n",
              "      <td>6.453292</td>\n",
              "      <td>4.522509</td>\n",
              "      <td>4.990125</td>\n",
              "      <td>10.942405</td>\n",
              "      <td>10.541229</td>\n",
              "      <td>10.310674</td>\n",
              "      <td>11.461705</td>\n",
              "      <td>10.761917</td>\n",
              "      <td>3.665011</td>\n",
              "      <td>11.043068</td>\n",
              "      <td>1.784419</td>\n",
              "      <td>2.546824</td>\n",
              "      <td>1.276018</td>\n",
              "      <td>1.926336</td>\n",
              "      <td>2.20070</td>\n",
              "      <td>2.736267</td>\n",
              "      <td>2.029466</td>\n",
              "      <td>2.145810</td>\n",
              "      <td>0.495439</td>\n",
              "    </tr>\n",
              "    <tr>\n",
              "      <th>min</th>\n",
              "      <td>1001.000000</td>\n",
              "      <td>0.000000</td>\n",
              "      <td>67.270000</td>\n",
              "      <td>0.150000</td>\n",
              "      <td>-34.690000</td>\n",
              "      <td>-37.840000</td>\n",
              "      <td>-34.830000</td>\n",
              "      <td>-28.350000</td>\n",
              "      <td>-41.960000</td>\n",
              "      <td>0.180000</td>\n",
              "      <td>-35.770000</td>\n",
              "      <td>0.400000</td>\n",
              "      <td>0.710000</td>\n",
              "      <td>0.000000</td>\n",
              "      <td>0.260000</td>\n",
              "      <td>0.70000</td>\n",
              "      <td>1.270000</td>\n",
              "      <td>0.000000</td>\n",
              "      <td>0.530000</td>\n",
              "      <td>0.000000</td>\n",
              "    </tr>\n",
              "    <tr>\n",
              "      <th>25%</th>\n",
              "      <td>19085.000000</td>\n",
              "      <td>0.010000</td>\n",
              "      <td>96.650000</td>\n",
              "      <td>3.880000</td>\n",
              "      <td>3.640000</td>\n",
              "      <td>-0.300000</td>\n",
              "      <td>-0.250000</td>\n",
              "      <td>8.910000</td>\n",
              "      <td>-1.060000</td>\n",
              "      <td>7.820000</td>\n",
              "      <td>3.580000</td>\n",
              "      <td>2.100000</td>\n",
              "      <td>3.070000</td>\n",
              "      <td>0.970000</td>\n",
              "      <td>1.770000</td>\n",
              "      <td>3.82000</td>\n",
              "      <td>5.670000</td>\n",
              "      <td>1.490000</td>\n",
              "      <td>3.120000</td>\n",
              "      <td>0.000000</td>\n",
              "    </tr>\n",
              "    <tr>\n",
              "      <th>50%</th>\n",
              "      <td>29109.000000</td>\n",
              "      <td>0.230000</td>\n",
              "      <td>98.500000</td>\n",
              "      <td>6.950000</td>\n",
              "      <td>13.010000</td>\n",
              "      <td>8.080000</td>\n",
              "      <td>7.910000</td>\n",
              "      <td>18.960000</td>\n",
              "      <td>7.350000</td>\n",
              "      <td>10.280000</td>\n",
              "      <td>12.950000</td>\n",
              "      <td>3.130000</td>\n",
              "      <td>4.620000</td>\n",
              "      <td>1.640000</td>\n",
              "      <td>2.750000</td>\n",
              "      <td>5.14000</td>\n",
              "      <td>7.270000</td>\n",
              "      <td>2.770000</td>\n",
              "      <td>4.210000</td>\n",
              "      <td>0.000000</td>\n",
              "    </tr>\n",
              "    <tr>\n",
              "      <th>75%</th>\n",
              "      <td>45007.000000</td>\n",
              "      <td>2.750000</td>\n",
              "      <td>100.040000</td>\n",
              "      <td>12.110000</td>\n",
              "      <td>21.310000</td>\n",
              "      <td>16.755000</td>\n",
              "      <td>16.610000</td>\n",
              "      <td>26.880000</td>\n",
              "      <td>15.950000</td>\n",
              "      <td>12.870000</td>\n",
              "      <td>21.390000</td>\n",
              "      <td>4.500000</td>\n",
              "      <td>6.660000</td>\n",
              "      <td>2.520000</td>\n",
              "      <td>4.210000</td>\n",
              "      <td>6.79000</td>\n",
              "      <td>9.380000</td>\n",
              "      <td>4.350000</td>\n",
              "      <td>5.720000</td>\n",
              "      <td>0.000000</td>\n",
              "    </tr>\n",
              "    <tr>\n",
              "      <th>max</th>\n",
              "      <td>56043.000000</td>\n",
              "      <td>147.560000</td>\n",
              "      <td>103.790000</td>\n",
              "      <td>21.800000</td>\n",
              "      <td>38.700000</td>\n",
              "      <td>26.710000</td>\n",
              "      <td>26.620000</td>\n",
              "      <td>46.520000</td>\n",
              "      <td>31.380000</td>\n",
              "      <td>26.180000</td>\n",
              "      <td>41.700000</td>\n",
              "      <td>16.080000</td>\n",
              "      <td>23.860000</td>\n",
              "      <td>14.180000</td>\n",
              "      <td>19.110000</td>\n",
              "      <td>18.93000</td>\n",
              "      <td>28.740000</td>\n",
              "      <td>17.010000</td>\n",
              "      <td>22.850000</td>\n",
              "      <td>4.000000</td>\n",
              "    </tr>\n",
              "  </tbody>\n",
              "</table>\n",
              "</div>"
            ],
            "text/plain": [
              "                fips        PRECTOT  ...    WS50M_RANGE          score\n",
              "count  243071.000000  243071.000000  ...  243071.000000  243071.000000\n",
              "mean    30499.361771       2.907717  ...       4.648527       0.132122\n",
              "std     14713.320091       6.453292  ...       2.145810       0.495439\n",
              "min      1001.000000       0.000000  ...       0.530000       0.000000\n",
              "25%     19085.000000       0.010000  ...       3.120000       0.000000\n",
              "50%     29109.000000       0.230000  ...       4.210000       0.000000\n",
              "75%     45007.000000       2.750000  ...       5.720000       0.000000\n",
              "max     56043.000000     147.560000  ...      22.850000       4.000000\n",
              "\n",
              "[8 rows x 20 columns]"
            ]
          },
          "metadata": {
            "tags": []
          },
          "execution_count": 9
        }
      ]
    },
    {
      "cell_type": "code",
      "metadata": {
        "colab": {
          "base_uri": "https://localhost:8080/"
        },
        "id": "Sfh_uK-LBUJZ",
        "outputId": "9dcb000f-f20d-4f3e-f2c0-1429843090e1"
      },
      "source": [
        "#Output the Numbers of score for the Drought Severity\n",
        "drought_df.score.value_counts()"
      ],
      "execution_count": null,
      "outputs": [
        {
          "output_type": "execute_result",
          "data": {
            "text/plain": [
              "0.0    222634\n",
              "1.0     12196\n",
              "2.0      5585\n",
              "3.0      1875\n",
              "4.0       781\n",
              "Name: score, dtype: int64"
            ]
          },
          "metadata": {
            "tags": []
          },
          "execution_count": 10
        }
      ]
    },
    {
      "cell_type": "code",
      "metadata": {
        "id": "S9A9xDzfkB4X"
      },
      "source": [
        "#Create New Column to Determine if there is a Drought or Not by the score of the Drought Severity\n",
        "drought_df['drought'] = [ 1 if x >= 1 else 0 for x in drought_df['score']]"
      ],
      "execution_count": null,
      "outputs": []
    },
    {
      "cell_type": "code",
      "metadata": {
        "colab": {
          "base_uri": "https://localhost:8080/",
          "height": 388
        },
        "id": "eKj7suE1GSpA",
        "outputId": "5f566ac3-59f8-41fb-f903-e47489b6584c"
      },
      "source": [
        "#Display Clean Data\n",
        "drought_df"
      ],
      "execution_count": null,
      "outputs": [
        {
          "output_type": "execute_result",
          "data": {
            "text/html": [
              "<div>\n",
              "<style scoped>\n",
              "    .dataframe tbody tr th:only-of-type {\n",
              "        vertical-align: middle;\n",
              "    }\n",
              "\n",
              "    .dataframe tbody tr th {\n",
              "        vertical-align: top;\n",
              "    }\n",
              "\n",
              "    .dataframe thead th {\n",
              "        text-align: right;\n",
              "    }\n",
              "</style>\n",
              "<table border=\"1\" class=\"dataframe\">\n",
              "  <thead>\n",
              "    <tr style=\"text-align: right;\">\n",
              "      <th></th>\n",
              "      <th>fips</th>\n",
              "      <th>date</th>\n",
              "      <th>PRECTOT</th>\n",
              "      <th>PS</th>\n",
              "      <th>QV2M</th>\n",
              "      <th>T2M</th>\n",
              "      <th>T2MDEW</th>\n",
              "      <th>T2MWET</th>\n",
              "      <th>T2M_MAX</th>\n",
              "      <th>T2M_MIN</th>\n",
              "      <th>T2M_RANGE</th>\n",
              "      <th>TS</th>\n",
              "      <th>WS10M</th>\n",
              "      <th>WS10M_MAX</th>\n",
              "      <th>WS10M_MIN</th>\n",
              "      <th>WS10M_RANGE</th>\n",
              "      <th>WS50M</th>\n",
              "      <th>WS50M_MAX</th>\n",
              "      <th>WS50M_MIN</th>\n",
              "      <th>WS50M_RANGE</th>\n",
              "      <th>score</th>\n",
              "      <th>drought</th>\n",
              "    </tr>\n",
              "  </thead>\n",
              "  <tbody>\n",
              "    <tr>\n",
              "      <th>0</th>\n",
              "      <td>1001</td>\n",
              "      <td>2019-01-01</td>\n",
              "      <td>2.25</td>\n",
              "      <td>100.51</td>\n",
              "      <td>9.69</td>\n",
              "      <td>14.71</td>\n",
              "      <td>13.55</td>\n",
              "      <td>13.52</td>\n",
              "      <td>17.38</td>\n",
              "      <td>10.92</td>\n",
              "      <td>6.46</td>\n",
              "      <td>14.63</td>\n",
              "      <td>1.20</td>\n",
              "      <td>1.50</td>\n",
              "      <td>0.79</td>\n",
              "      <td>0.71</td>\n",
              "      <td>2.74</td>\n",
              "      <td>4.01</td>\n",
              "      <td>1.23</td>\n",
              "      <td>2.78</td>\n",
              "      <td>0.0</td>\n",
              "      <td>0</td>\n",
              "    </tr>\n",
              "    <tr>\n",
              "      <th>7</th>\n",
              "      <td>1001</td>\n",
              "      <td>2019-01-08</td>\n",
              "      <td>0.05</td>\n",
              "      <td>100.57</td>\n",
              "      <td>8.75</td>\n",
              "      <td>13.15</td>\n",
              "      <td>12.01</td>\n",
              "      <td>11.98</td>\n",
              "      <td>20.04</td>\n",
              "      <td>9.36</td>\n",
              "      <td>10.68</td>\n",
              "      <td>13.05</td>\n",
              "      <td>2.33</td>\n",
              "      <td>3.40</td>\n",
              "      <td>1.68</td>\n",
              "      <td>1.72</td>\n",
              "      <td>5.13</td>\n",
              "      <td>6.51</td>\n",
              "      <td>3.67</td>\n",
              "      <td>2.85</td>\n",
              "      <td>0.0</td>\n",
              "      <td>0</td>\n",
              "    </tr>\n",
              "    <tr>\n",
              "      <th>14</th>\n",
              "      <td>1001</td>\n",
              "      <td>2019-01-15</td>\n",
              "      <td>0.00</td>\n",
              "      <td>101.07</td>\n",
              "      <td>4.04</td>\n",
              "      <td>3.91</td>\n",
              "      <td>0.94</td>\n",
              "      <td>0.96</td>\n",
              "      <td>9.40</td>\n",
              "      <td>1.02</td>\n",
              "      <td>8.38</td>\n",
              "      <td>3.91</td>\n",
              "      <td>1.73</td>\n",
              "      <td>2.40</td>\n",
              "      <td>1.36</td>\n",
              "      <td>1.04</td>\n",
              "      <td>3.28</td>\n",
              "      <td>4.13</td>\n",
              "      <td>2.39</td>\n",
              "      <td>1.75</td>\n",
              "      <td>0.0</td>\n",
              "      <td>0</td>\n",
              "    </tr>\n",
              "    <tr>\n",
              "      <th>21</th>\n",
              "      <td>1001</td>\n",
              "      <td>2019-01-22</td>\n",
              "      <td>0.03</td>\n",
              "      <td>101.14</td>\n",
              "      <td>4.96</td>\n",
              "      <td>6.03</td>\n",
              "      <td>3.81</td>\n",
              "      <td>3.08</td>\n",
              "      <td>12.43</td>\n",
              "      <td>-1.63</td>\n",
              "      <td>14.06</td>\n",
              "      <td>6.08</td>\n",
              "      <td>3.68</td>\n",
              "      <td>4.57</td>\n",
              "      <td>2.49</td>\n",
              "      <td>2.07</td>\n",
              "      <td>6.65</td>\n",
              "      <td>8.56</td>\n",
              "      <td>5.01</td>\n",
              "      <td>3.55</td>\n",
              "      <td>0.0</td>\n",
              "      <td>0</td>\n",
              "    </tr>\n",
              "    <tr>\n",
              "      <th>28</th>\n",
              "      <td>1001</td>\n",
              "      <td>2019-01-29</td>\n",
              "      <td>5.79</td>\n",
              "      <td>100.36</td>\n",
              "      <td>3.69</td>\n",
              "      <td>2.23</td>\n",
              "      <td>-0.41</td>\n",
              "      <td>-1.03</td>\n",
              "      <td>7.33</td>\n",
              "      <td>-5.19</td>\n",
              "      <td>12.52</td>\n",
              "      <td>2.18</td>\n",
              "      <td>3.10</td>\n",
              "      <td>4.52</td>\n",
              "      <td>1.71</td>\n",
              "      <td>2.81</td>\n",
              "      <td>5.62</td>\n",
              "      <td>6.96</td>\n",
              "      <td>3.60</td>\n",
              "      <td>3.35</td>\n",
              "      <td>0.0</td>\n",
              "      <td>0</td>\n",
              "    </tr>\n",
              "    <tr>\n",
              "      <th>...</th>\n",
              "      <td>...</td>\n",
              "      <td>...</td>\n",
              "      <td>...</td>\n",
              "      <td>...</td>\n",
              "      <td>...</td>\n",
              "      <td>...</td>\n",
              "      <td>...</td>\n",
              "      <td>...</td>\n",
              "      <td>...</td>\n",
              "      <td>...</td>\n",
              "      <td>...</td>\n",
              "      <td>...</td>\n",
              "      <td>...</td>\n",
              "      <td>...</td>\n",
              "      <td>...</td>\n",
              "      <td>...</td>\n",
              "      <td>...</td>\n",
              "      <td>...</td>\n",
              "      <td>...</td>\n",
              "      <td>...</td>\n",
              "      <td>...</td>\n",
              "      <td>...</td>\n",
              "    </tr>\n",
              "    <tr>\n",
              "      <th>2271700</th>\n",
              "      <td>56043</td>\n",
              "      <td>2020-04-28</td>\n",
              "      <td>0.33</td>\n",
              "      <td>83.54</td>\n",
              "      <td>3.92</td>\n",
              "      <td>8.74</td>\n",
              "      <td>-2.14</td>\n",
              "      <td>-2.26</td>\n",
              "      <td>14.28</td>\n",
              "      <td>3.06</td>\n",
              "      <td>11.22</td>\n",
              "      <td>9.03</td>\n",
              "      <td>5.04</td>\n",
              "      <td>9.76</td>\n",
              "      <td>1.22</td>\n",
              "      <td>8.54</td>\n",
              "      <td>6.82</td>\n",
              "      <td>11.75</td>\n",
              "      <td>1.66</td>\n",
              "      <td>10.09</td>\n",
              "      <td>0.0</td>\n",
              "      <td>0</td>\n",
              "    </tr>\n",
              "    <tr>\n",
              "      <th>2271735</th>\n",
              "      <td>56043</td>\n",
              "      <td>2020-06-02</td>\n",
              "      <td>0.33</td>\n",
              "      <td>83.48</td>\n",
              "      <td>8.59</td>\n",
              "      <td>18.92</td>\n",
              "      <td>9.00</td>\n",
              "      <td>8.96</td>\n",
              "      <td>24.11</td>\n",
              "      <td>12.46</td>\n",
              "      <td>11.65</td>\n",
              "      <td>20.39</td>\n",
              "      <td>2.47</td>\n",
              "      <td>3.89</td>\n",
              "      <td>1.66</td>\n",
              "      <td>2.23</td>\n",
              "      <td>3.72</td>\n",
              "      <td>7.56</td>\n",
              "      <td>1.85</td>\n",
              "      <td>5.71</td>\n",
              "      <td>1.0</td>\n",
              "      <td>1</td>\n",
              "    </tr>\n",
              "    <tr>\n",
              "      <th>2271749</th>\n",
              "      <td>56043</td>\n",
              "      <td>2020-06-16</td>\n",
              "      <td>1.13</td>\n",
              "      <td>82.50</td>\n",
              "      <td>6.45</td>\n",
              "      <td>17.64</td>\n",
              "      <td>4.57</td>\n",
              "      <td>4.50</td>\n",
              "      <td>26.29</td>\n",
              "      <td>11.10</td>\n",
              "      <td>15.19</td>\n",
              "      <td>17.80</td>\n",
              "      <td>4.59</td>\n",
              "      <td>11.06</td>\n",
              "      <td>1.15</td>\n",
              "      <td>9.92</td>\n",
              "      <td>6.43</td>\n",
              "      <td>13.50</td>\n",
              "      <td>1.97</td>\n",
              "      <td>11.53</td>\n",
              "      <td>2.0</td>\n",
              "      <td>1</td>\n",
              "    </tr>\n",
              "    <tr>\n",
              "      <th>2271756</th>\n",
              "      <td>56043</td>\n",
              "      <td>2020-06-23</td>\n",
              "      <td>0.01</td>\n",
              "      <td>83.48</td>\n",
              "      <td>7.16</td>\n",
              "      <td>20.98</td>\n",
              "      <td>6.23</td>\n",
              "      <td>6.26</td>\n",
              "      <td>29.08</td>\n",
              "      <td>10.99</td>\n",
              "      <td>18.09</td>\n",
              "      <td>23.34</td>\n",
              "      <td>2.11</td>\n",
              "      <td>3.10</td>\n",
              "      <td>1.17</td>\n",
              "      <td>1.93</td>\n",
              "      <td>3.28</td>\n",
              "      <td>6.04</td>\n",
              "      <td>1.22</td>\n",
              "      <td>4.82</td>\n",
              "      <td>2.0</td>\n",
              "      <td>1</td>\n",
              "    </tr>\n",
              "    <tr>\n",
              "      <th>2271763</th>\n",
              "      <td>56043</td>\n",
              "      <td>2020-06-30</td>\n",
              "      <td>2.86</td>\n",
              "      <td>82.74</td>\n",
              "      <td>5.79</td>\n",
              "      <td>14.43</td>\n",
              "      <td>3.11</td>\n",
              "      <td>2.91</td>\n",
              "      <td>19.78</td>\n",
              "      <td>7.99</td>\n",
              "      <td>11.79</td>\n",
              "      <td>15.87</td>\n",
              "      <td>4.10</td>\n",
              "      <td>6.97</td>\n",
              "      <td>0.91</td>\n",
              "      <td>6.06</td>\n",
              "      <td>5.61</td>\n",
              "      <td>8.15</td>\n",
              "      <td>1.63</td>\n",
              "      <td>6.52</td>\n",
              "      <td>2.0</td>\n",
              "      <td>1</td>\n",
              "    </tr>\n",
              "  </tbody>\n",
              "</table>\n",
              "<p>243071 rows × 22 columns</p>\n",
              "</div>"
            ],
            "text/plain": [
              "          fips        date  PRECTOT  ...  WS50M_RANGE  score  drought\n",
              "0         1001  2019-01-01     2.25  ...         2.78    0.0        0\n",
              "7         1001  2019-01-08     0.05  ...         2.85    0.0        0\n",
              "14        1001  2019-01-15     0.00  ...         1.75    0.0        0\n",
              "21        1001  2019-01-22     0.03  ...         3.55    0.0        0\n",
              "28        1001  2019-01-29     5.79  ...         3.35    0.0        0\n",
              "...        ...         ...      ...  ...          ...    ...      ...\n",
              "2271700  56043  2020-04-28     0.33  ...        10.09    0.0        0\n",
              "2271735  56043  2020-06-02     0.33  ...         5.71    1.0        1\n",
              "2271749  56043  2020-06-16     1.13  ...        11.53    2.0        1\n",
              "2271756  56043  2020-06-23     0.01  ...         4.82    2.0        1\n",
              "2271763  56043  2020-06-30     2.86  ...         6.52    2.0        1\n",
              "\n",
              "[243071 rows x 22 columns]"
            ]
          },
          "metadata": {
            "tags": []
          },
          "execution_count": 12
        }
      ]
    },
    {
      "cell_type": "code",
      "metadata": {
        "colab": {
          "base_uri": "https://localhost:8080/"
        },
        "id": "l46dW4bGYk3Q",
        "outputId": "ebbc0a65-0f91-4184-fe31-fe160a58e78e"
      },
      "source": [
        "#View Information of Non-Nulls and Data Types \n",
        "drought_df.info()"
      ],
      "execution_count": null,
      "outputs": [
        {
          "output_type": "stream",
          "text": [
            "<class 'pandas.core.frame.DataFrame'>\n",
            "Int64Index: 243071 entries, 0 to 2271763\n",
            "Data columns (total 22 columns):\n",
            " #   Column       Non-Null Count   Dtype  \n",
            "---  ------       --------------   -----  \n",
            " 0   fips         243071 non-null  int64  \n",
            " 1   date         243071 non-null  object \n",
            " 2   PRECTOT      243071 non-null  float64\n",
            " 3   PS           243071 non-null  float64\n",
            " 4   QV2M         243071 non-null  float64\n",
            " 5   T2M          243071 non-null  float64\n",
            " 6   T2MDEW       243071 non-null  float64\n",
            " 7   T2MWET       243071 non-null  float64\n",
            " 8   T2M_MAX      243071 non-null  float64\n",
            " 9   T2M_MIN      243071 non-null  float64\n",
            " 10  T2M_RANGE    243071 non-null  float64\n",
            " 11  TS           243071 non-null  float64\n",
            " 12  WS10M        243071 non-null  float64\n",
            " 13  WS10M_MAX    243071 non-null  float64\n",
            " 14  WS10M_MIN    243071 non-null  float64\n",
            " 15  WS10M_RANGE  243071 non-null  float64\n",
            " 16  WS50M        243071 non-null  float64\n",
            " 17  WS50M_MAX    243071 non-null  float64\n",
            " 18  WS50M_MIN    243071 non-null  float64\n",
            " 19  WS50M_RANGE  243071 non-null  float64\n",
            " 20  score        243071 non-null  float64\n",
            " 21  drought      243071 non-null  int64  \n",
            "dtypes: float64(19), int64(2), object(1)\n",
            "memory usage: 42.7+ MB\n"
          ],
          "name": "stdout"
        }
      ]
    },
    {
      "cell_type": "code",
      "metadata": {
        "colab": {
          "base_uri": "https://localhost:8080/",
          "height": 304
        },
        "id": "MoZqe6Q8ubU_",
        "outputId": "c7696d84-7908-4719-ef0f-f4b4802bb719"
      },
      "source": [
        "#Plot the Level of Drought Severity Against the Amount of Precipitation\n",
        "x = drought_df.PRECTOT\n",
        "y = drought_df.score\n",
        "plt.title('Precipitation Versus Drought Severity')\n",
        "plt.xlabel('Amount of Precipitation')\n",
        "plt.ylabel('Drought Severity')\n",
        "plt.plot(x, y, 'o', color='blue');"
      ],
      "execution_count": null,
      "outputs": [
        {
          "output_type": "display_data",
          "data": {
            "image/png": "[encoded data removed]",
            "text/plain": [
              "<Figure size 432x288 with 1 Axes>"
            ]
          },
          "metadata": {
            "tags": [],
            "needs_background": "light"
          }
        }
      ]
    },
    {
      "cell_type": "code",
      "metadata": {
        "colab": {
          "base_uri": "https://localhost:8080/",
          "height": 304
        },
        "id": "DLb6CCcYy0Rp",
        "outputId": "d23f9bdd-3586-4588-b8c2-a0a4e6d0feb6"
      },
      "source": [
        "#Plot No Drought and Drought Against the Amount of Precipitation\n",
        "x = drought_df.PRECTOT\n",
        "y = drought_df.drought\n",
        "plt.title('Precipitation Versus Drought')\n",
        "plt.xlabel('Amount of Precipitation')\n",
        "plt.ylabel('No Drought or Drought')\n",
        "plt.plot(x, y, 'o', color='brown');"
      ],
      "execution_count": null,
      "outputs": [
        {
          "output_type": "display_data",
          "data": {
            "image/png": "[encoded data removed]",
            "text/plain": [
              "<Figure size 432x288 with 1 Axes>"
            ]
          },
          "metadata": {
            "tags": [],
            "needs_background": "light"
          }
        }
      ]
    },
    {
      "cell_type": "code",
      "metadata": {
        "colab": {
          "base_uri": "https://localhost:8080/",
          "height": 520
        },
        "id": "iTLQwWTHXDex",
        "outputId": "0fc60bd3-36c8-48ae-c196-5338e3929b3b"
      },
      "source": [
        "#Declare Variable for Correlation Dataframe\n",
        "corr = drought_df.corr()\n",
        "#Visualize the Dataframe Using Seaborn Package With Correlation Matrix\n",
        "fig, ax=plt.subplots()\n",
        "fig.set_size_inches(11,7)\n",
        "sns.heatmap(corr, annot=True, fmt=\".2f\", cmap=\"RdBu\", center=0, ax=ax)\n",
        "plt.show()"
      ],
      "execution_count": null,
      "outputs": [
        {
          "output_type": "display_data",
          "data": {
            "image/png": "[encoded data removed]",
            "text/plain": [
              "<Figure size 792x504 with 2 Axes>"
            ]
          },
          "metadata": {
            "tags": [],
            "needs_background": "light"
          }
        }
      ]
    },
    {
      "cell_type": "code",
      "metadata": {
        "id": "V8ecrBNu-1QH"
      },
      "source": [
        "#Determine Numerical and Categorical Features\n",
        "numerical_features = drought_df.select_dtypes(include=['int64','float64']).columns\n",
        "categorical_features = drought_df.select_dtypes(include=['object']).columns"
      ],
      "execution_count": null,
      "outputs": []
    },
    {
      "cell_type": "code",
      "metadata": {
        "colab": {
          "base_uri": "https://localhost:8080/"
        },
        "id": "Dlb89omfN0nQ",
        "outputId": "6bf4674f-5d9e-47a6-f90a-be9f6de7f467"
      },
      "source": [
        "#Determine Numerical Index Features\n",
        "numerical_features"
      ],
      "execution_count": null,
      "outputs": [
        {
          "output_type": "execute_result",
          "data": {
            "text/plain": [
              "Index(['fips', 'PRECTOT', 'PS', 'QV2M', 'T2M', 'T2MDEW', 'T2MWET', 'T2M_MAX',\n",
              "       'T2M_MIN', 'T2M_RANGE', 'TS', 'WS10M', 'WS10M_MAX', 'WS10M_MIN',\n",
              "       'WS10M_RANGE', 'WS50M', 'WS50M_MAX', 'WS50M_MIN', 'WS50M_RANGE',\n",
              "       'score', 'drought'],\n",
              "      dtype='object')"
            ]
          },
          "metadata": {
            "tags": []
          },
          "execution_count": 18
        }
      ]
    },
    {
      "cell_type": "code",
      "metadata": {
        "colab": {
          "base_uri": "https://localhost:8080/"
        },
        "id": "RyjLsyo5N1Ze",
        "outputId": "7679af5c-a221-47c0-fc8f-41509cdaa652"
      },
      "source": [
        "#Determine Categorical Index Features\n",
        "categorical_features"
      ],
      "execution_count": null,
      "outputs": [
        {
          "output_type": "execute_result",
          "data": {
            "text/plain": [
              "Index(['date'], dtype='object')"
            ]
          },
          "metadata": {
            "tags": []
          },
          "execution_count": 19
        }
      ]
    },
    {
      "cell_type": "code",
      "metadata": {
        "id": "rIC6_cCoOVcj"
      },
      "source": [
        "#Import and Create a Preprocessing Piplines Numerical Features\n",
        "from sklearn.pipeline import Pipeline\n",
        "from sklearn.impute import SimpleImputer\n",
        "from sklearn.preprocessing import MinMaxScaler, StandardScaler\n",
        "numeric_transformer = Pipeline(steps=[\n",
        "                                      ('imputer', SimpleImputer(strategy= 'mean')),\n",
        "                                      ('scaler', MinMaxScaler())\n",
        "])"
      ],
      "execution_count": null,
      "outputs": []
    },
    {
      "cell_type": "code",
      "metadata": {
        "id": "HU89kWejOcqn"
      },
      "source": [
        "#Create a Preprocessing Piplines Categorical Features\n",
        "categorical_transformer = Pipeline(steps=[\n",
        "                                      ('imputer', SimpleImputer(strategy= \"most_frequent\" ))\n",
        "])"
      ],
      "execution_count": null,
      "outputs": []
    },
    {
      "cell_type": "code",
      "metadata": {
        "colab": {
          "base_uri": "https://localhost:8080/"
        },
        "id": "haH7wAE-Oqav",
        "outputId": "43eff501-7106-4857-f991-464157c15e29"
      },
      "source": [
        "#Fit Numerical Features\n",
        "#Fitting Will Take a Couple of Minutes to Execute\n",
        "numeric_transformer.fit_transform(drought_df[numerical_features])"
      ],
      "execution_count": null,
      "outputs": [
        {
          "output_type": "execute_result",
          "data": {
            "text/plain": [
              "array([[0.00000000e+00, 1.52480347e-02, 9.10186199e-01, ...,\n",
              "        1.00806452e-01, 0.00000000e+00, 0.00000000e+00],\n",
              "       [0.00000000e+00, 3.38845216e-04, 9.11829135e-01, ...,\n",
              "        1.03942652e-01, 0.00000000e+00, 0.00000000e+00],\n",
              "       [0.00000000e+00, 0.00000000e+00, 9.25520263e-01, ...,\n",
              "        5.46594982e-02, 0.00000000e+00, 0.00000000e+00],\n",
              "       ...,\n",
              "       [1.00000000e+00, 7.65790187e-03, 4.17031763e-01, ...,\n",
              "        4.92831541e-01, 5.00000000e-01, 1.00000000e+00],\n",
              "       [1.00000000e+00, 6.77690431e-05, 4.43866375e-01, ...,\n",
              "        1.92204301e-01, 5.00000000e-01, 1.00000000e+00],\n",
              "       [1.00000000e+00, 1.93819463e-02, 4.23603505e-01, ...,\n",
              "        2.68369176e-01, 5.00000000e-01, 1.00000000e+00]])"
            ]
          },
          "metadata": {
            "tags": []
          },
          "execution_count": 22
        }
      ]
    },
    {
      "cell_type": "code",
      "metadata": {
        "colab": {
          "base_uri": "https://localhost:8080/"
        },
        "id": "Sb-aHN7ZOk7G",
        "outputId": "d500627f-5061-4aad-8531-2e197f924008"
      },
      "source": [
        "#Fit Categorical Features\n",
        "#Fitting Will Take a Couple of Minutes to Execute\n",
        "categorical_transformer.fit_transform(drought_df[categorical_features])"
      ],
      "execution_count": null,
      "outputs": [
        {
          "output_type": "execute_result",
          "data": {
            "text/plain": [
              "array([['2019-01-01'],\n",
              "       ['2019-01-08'],\n",
              "       ['2019-01-15'],\n",
              "       ...,\n",
              "       ['2020-06-16'],\n",
              "       ['2020-06-23'],\n",
              "       ['2020-06-30']], dtype=object)"
            ]
          },
          "metadata": {
            "tags": []
          },
          "execution_count": 23
        }
      ]
    },
    {
      "cell_type": "code",
      "metadata": {
        "colab": {
          "base_uri": "https://localhost:8080/"
        },
        "id": "PbdjB_9jQFLD",
        "outputId": "2f569b64-fd4f-48f4-ef14-91ad62fbd212"
      },
      "source": [
        "#Apply Column Transformer to Preprocessor and Display the Preprocessor\n",
        "from sklearn.compose import ColumnTransformer\n",
        "preprocessor = ColumnTransformer(\n",
        "    transformers = [\n",
        "        ('numeric', numeric_transformer, numerical_features),\n",
        "        ('categorical', categorical_transformer, categorical_features)\n",
        "    ]\n",
        ")\n",
        "preprocessor"
      ],
      "execution_count": null,
      "outputs": [
        {
          "output_type": "execute_result",
          "data": {
            "text/plain": [
              "ColumnTransformer(n_jobs=None, remainder='drop', sparse_threshold=0.3,\n",
              "                  transformer_weights=None,\n",
              "                  transformers=[('numeric',\n",
              "                                 Pipeline(memory=None,\n",
              "                                          steps=[('imputer',\n",
              "                                                  SimpleImputer(add_indicator=False,\n",
              "                                                                copy=True,\n",
              "                                                                fill_value=None,\n",
              "                                                                missing_values=nan,\n",
              "                                                                strategy='mean',\n",
              "                                                                verbose=0)),\n",
              "                                                 ('scaler',\n",
              "                                                  MinMaxScaler(copy=True,\n",
              "                                                               feature_range=(0,\n",
              "                                                                              1)))],\n",
              "                                          verbose=False),\n",
              "                                 Index(['fips', '...\n",
              "       'T2M_MIN', 'T2M_RANGE', 'TS', 'WS10M', 'WS10M_MAX', 'WS10M_MIN',\n",
              "       'WS10M_RANGE', 'WS50M', 'WS50M_MAX', 'WS50M_MIN', 'WS50M_RANGE',\n",
              "       'score', 'drought'],\n",
              "      dtype='object')),\n",
              "                                ('categorical',\n",
              "                                 Pipeline(memory=None,\n",
              "                                          steps=[('imputer',\n",
              "                                                  SimpleImputer(add_indicator=False,\n",
              "                                                                copy=True,\n",
              "                                                                fill_value=None,\n",
              "                                                                missing_values=nan,\n",
              "                                                                strategy='most_frequent',\n",
              "                                                                verbose=0))],\n",
              "                                          verbose=False),\n",
              "                                 Index(['date'], dtype='object'))],\n",
              "                  verbose=False)"
            ]
          },
          "metadata": {
            "tags": []
          },
          "execution_count": 24
        }
      ]
    },
    {
      "cell_type": "code",
      "metadata": {
        "colab": {
          "base_uri": "https://localhost:8080/"
        },
        "id": "qAMkr3Pq_cX8",
        "outputId": "b5e8978a-cbea-4829-fa9b-c99e8b4734e8"
      },
      "source": [
        "#Fit the Preprocessor and Display the Transfromed Data\n",
        "#Fitting Will Take a Couple of Minutes to Execute\n",
        "transformed_data = preprocessor.fit_transform(drought_df)\n",
        "transformed_data"
      ],
      "execution_count": null,
      "outputs": [
        {
          "output_type": "execute_result",
          "data": {
            "text/plain": [
              "array([[0.0, 0.015248034697750067, 0.9101861993428257, ..., 0.0, 0.0,\n",
              "        '2019-01-01'],\n",
              "       [0.0, 0.0003388452155055571, 0.9118291347207008, ..., 0.0, 0.0,\n",
              "        '2019-01-08'],\n",
              "       [0.0, 0.0, 0.9255202628696599, ..., 0.0, 0.0, '2019-01-15'],\n",
              "       ...,\n",
              "       [1.0, 0.007657901870425588, 0.4170317634173055, ..., 0.5, 1.0,\n",
              "        '2020-06-16'],\n",
              "       [1.0, 6.77690431011114e-05, 0.44386637458926614, ..., 0.5, 1.0,\n",
              "        '2020-06-23'],\n",
              "       [1.0, 0.01938194632691786, 0.42360350492880583, ..., 0.5, 1.0,\n",
              "        '2020-06-30']], dtype=object)"
            ]
          },
          "metadata": {
            "tags": []
          },
          "execution_count": 25
        }
      ]
    },
    {
      "cell_type": "code",
      "metadata": {
        "id": "ov4yg0MQQ3l0"
      },
      "source": [
        "#Define the Column Name Function\n",
        "def extract_feature_names(columnTransformerProcessor):\n",
        "    output_features = []\n",
        "    for name, pipe, features in columnTransformerProcessor.transformers_:\n",
        "        if name!='remainder':\n",
        "            for i in pipe:\n",
        "                trans_features = []\n",
        "                if hasattr(i,'categories_'):\n",
        "                    trans_features.extend(i.get_feature_names(features))\n",
        "                else:\n",
        "                    trans_features = features\n",
        "            output_features.extend(trans_features)\n",
        "    return output_features"
      ],
      "execution_count": null,
      "outputs": []
    },
    {
      "cell_type": "code",
      "metadata": {
        "colab": {
          "base_uri": "https://localhost:8080/"
        },
        "id": "SmI3_876osk3",
        "outputId": "5d457b85-5d85-41a7-e2ae-94ea02cb5d8e"
      },
      "source": [
        "#Display the Column Names\n",
        "extract_feature_names(preprocessor)"
      ],
      "execution_count": null,
      "outputs": [
        {
          "output_type": "execute_result",
          "data": {
            "text/plain": [
              "['fips',\n",
              " 'PRECTOT',\n",
              " 'PS',\n",
              " 'QV2M',\n",
              " 'T2M',\n",
              " 'T2MDEW',\n",
              " 'T2MWET',\n",
              " 'T2M_MAX',\n",
              " 'T2M_MIN',\n",
              " 'T2M_RANGE',\n",
              " 'TS',\n",
              " 'WS10M',\n",
              " 'WS10M_MAX',\n",
              " 'WS10M_MIN',\n",
              " 'WS10M_RANGE',\n",
              " 'WS50M',\n",
              " 'WS50M_MAX',\n",
              " 'WS50M_MIN',\n",
              " 'WS50M_RANGE',\n",
              " 'score',\n",
              " 'drought',\n",
              " 'date']"
            ]
          },
          "metadata": {
            "tags": []
          },
          "execution_count": 27
        }
      ]
    },
    {
      "cell_type": "code",
      "metadata": {
        "colab": {
          "base_uri": "https://localhost:8080/",
          "height": 388
        },
        "id": "v4Lxp1o_RHhw",
        "outputId": "67705f31-3244-4134-e876-103702866cfd"
      },
      "source": [
        "#Extract Columns Names to the Normalized Data\n",
        "transformed_data_df = pd.DataFrame(transformed_data, columns=extract_feature_names(preprocessor))\n",
        "transformed_data_df"
      ],
      "execution_count": null,
      "outputs": [
        {
          "output_type": "execute_result",
          "data": {
            "text/html": [
              "<div>\n",
              "<style scoped>\n",
              "    .dataframe tbody tr th:only-of-type {\n",
              "        vertical-align: middle;\n",
              "    }\n",
              "\n",
              "    .dataframe tbody tr th {\n",
              "        vertical-align: top;\n",
              "    }\n",
              "\n",
              "    .dataframe thead th {\n",
              "        text-align: right;\n",
              "    }\n",
              "</style>\n",
              "<table border=\"1\" class=\"dataframe\">\n",
              "  <thead>\n",
              "    <tr style=\"text-align: right;\">\n",
              "      <th></th>\n",
              "      <th>fips</th>\n",
              "      <th>PRECTOT</th>\n",
              "      <th>PS</th>\n",
              "      <th>QV2M</th>\n",
              "      <th>T2M</th>\n",
              "      <th>T2MDEW</th>\n",
              "      <th>T2MWET</th>\n",
              "      <th>T2M_MAX</th>\n",
              "      <th>T2M_MIN</th>\n",
              "      <th>T2M_RANGE</th>\n",
              "      <th>TS</th>\n",
              "      <th>WS10M</th>\n",
              "      <th>WS10M_MAX</th>\n",
              "      <th>WS10M_MIN</th>\n",
              "      <th>WS10M_RANGE</th>\n",
              "      <th>WS50M</th>\n",
              "      <th>WS50M_MAX</th>\n",
              "      <th>WS50M_MIN</th>\n",
              "      <th>WS50M_RANGE</th>\n",
              "      <th>score</th>\n",
              "      <th>drought</th>\n",
              "      <th>date</th>\n",
              "    </tr>\n",
              "  </thead>\n",
              "  <tbody>\n",
              "    <tr>\n",
              "      <th>0</th>\n",
              "      <td>0</td>\n",
              "      <td>0.015248</td>\n",
              "      <td>0.910186</td>\n",
              "      <td>0.440647</td>\n",
              "      <td>0.673116</td>\n",
              "      <td>0.796127</td>\n",
              "      <td>0.786819</td>\n",
              "      <td>0.610792</td>\n",
              "      <td>0.721025</td>\n",
              "      <td>0.241538</td>\n",
              "      <td>0.650574</td>\n",
              "      <td>0.0510204</td>\n",
              "      <td>0.0341253</td>\n",
              "      <td>0.0557123</td>\n",
              "      <td>0.0238727</td>\n",
              "      <td>0.111903</td>\n",
              "      <td>0.0997452</td>\n",
              "      <td>0.0723104</td>\n",
              "      <td>0.100806</td>\n",
              "      <td>0</td>\n",
              "      <td>0</td>\n",
              "      <td>2019-01-01</td>\n",
              "    </tr>\n",
              "    <tr>\n",
              "      <th>1</th>\n",
              "      <td>0</td>\n",
              "      <td>0.000338845</td>\n",
              "      <td>0.911829</td>\n",
              "      <td>0.397229</td>\n",
              "      <td>0.65186</td>\n",
              "      <td>0.77227</td>\n",
              "      <td>0.761758</td>\n",
              "      <td>0.64632</td>\n",
              "      <td>0.699755</td>\n",
              "      <td>0.403846</td>\n",
              "      <td>0.630179</td>\n",
              "      <td>0.123087</td>\n",
              "      <td>0.116199</td>\n",
              "      <td>0.118477</td>\n",
              "      <td>0.0774536</td>\n",
              "      <td>0.243006</td>\n",
              "      <td>0.190754</td>\n",
              "      <td>0.215755</td>\n",
              "      <td>0.103943</td>\n",
              "      <td>0</td>\n",
              "      <td>0</td>\n",
              "      <td>2019-01-08</td>\n",
              "    </tr>\n",
              "    <tr>\n",
              "      <th>2</th>\n",
              "      <td>0</td>\n",
              "      <td>0</td>\n",
              "      <td>0.92552</td>\n",
              "      <td>0.179677</td>\n",
              "      <td>0.525957</td>\n",
              "      <td>0.600775</td>\n",
              "      <td>0.582425</td>\n",
              "      <td>0.504207</td>\n",
              "      <td>0.586038</td>\n",
              "      <td>0.315385</td>\n",
              "      <td>0.512198</td>\n",
              "      <td>0.0848214</td>\n",
              "      <td>0.0730022</td>\n",
              "      <td>0.0959097</td>\n",
              "      <td>0.0413793</td>\n",
              "      <td>0.141525</td>\n",
              "      <td>0.104114</td>\n",
              "      <td>0.140506</td>\n",
              "      <td>0.0546595</td>\n",
              "      <td>0</td>\n",
              "      <td>0</td>\n",
              "      <td>2019-01-15</td>\n",
              "    </tr>\n",
              "    <tr>\n",
              "      <th>3</th>\n",
              "      <td>0</td>\n",
              "      <td>0.000203307</td>\n",
              "      <td>0.927437</td>\n",
              "      <td>0.222171</td>\n",
              "      <td>0.554844</td>\n",
              "      <td>0.645236</td>\n",
              "      <td>0.616924</td>\n",
              "      <td>0.544677</td>\n",
              "      <td>0.549905</td>\n",
              "      <td>0.533846</td>\n",
              "      <td>0.540209</td>\n",
              "      <td>0.209184</td>\n",
              "      <td>0.166739</td>\n",
              "      <td>0.175599</td>\n",
              "      <td>0.0960212</td>\n",
              "      <td>0.326385</td>\n",
              "      <td>0.26538</td>\n",
              "      <td>0.294533</td>\n",
              "      <td>0.135305</td>\n",
              "      <td>0</td>\n",
              "      <td>0</td>\n",
              "      <td>2019-01-22</td>\n",
              "    </tr>\n",
              "    <tr>\n",
              "      <th>4</th>\n",
              "      <td>0</td>\n",
              "      <td>0.0392383</td>\n",
              "      <td>0.906079</td>\n",
              "      <td>0.16351</td>\n",
              "      <td>0.503066</td>\n",
              "      <td>0.579861</td>\n",
              "      <td>0.550041</td>\n",
              "      <td>0.476559</td>\n",
              "      <td>0.501364</td>\n",
              "      <td>0.474615</td>\n",
              "      <td>0.489867</td>\n",
              "      <td>0.172194</td>\n",
              "      <td>0.164579</td>\n",
              "      <td>0.120592</td>\n",
              "      <td>0.135279</td>\n",
              "      <td>0.269885</td>\n",
              "      <td>0.207135</td>\n",
              "      <td>0.21164</td>\n",
              "      <td>0.126344</td>\n",
              "      <td>0</td>\n",
              "      <td>0</td>\n",
              "      <td>2019-01-29</td>\n",
              "    </tr>\n",
              "    <tr>\n",
              "      <th>...</th>\n",
              "      <td>...</td>\n",
              "      <td>...</td>\n",
              "      <td>...</td>\n",
              "      <td>...</td>\n",
              "      <td>...</td>\n",
              "      <td>...</td>\n",
              "      <td>...</td>\n",
              "      <td>...</td>\n",
              "      <td>...</td>\n",
              "      <td>...</td>\n",
              "      <td>...</td>\n",
              "      <td>...</td>\n",
              "      <td>...</td>\n",
              "      <td>...</td>\n",
              "      <td>...</td>\n",
              "      <td>...</td>\n",
              "      <td>...</td>\n",
              "      <td>...</td>\n",
              "      <td>...</td>\n",
              "      <td>...</td>\n",
              "      <td>...</td>\n",
              "      <td>...</td>\n",
              "    </tr>\n",
              "    <tr>\n",
              "      <th>243066</th>\n",
              "      <td>1</td>\n",
              "      <td>0.00223638</td>\n",
              "      <td>0.445509</td>\n",
              "      <td>0.174134</td>\n",
              "      <td>0.59177</td>\n",
              "      <td>0.55306</td>\n",
              "      <td>0.530024</td>\n",
              "      <td>0.569387</td>\n",
              "      <td>0.613853</td>\n",
              "      <td>0.424615</td>\n",
              "      <td>0.578288</td>\n",
              "      <td>0.295918</td>\n",
              "      <td>0.390929</td>\n",
              "      <td>0.0860367</td>\n",
              "      <td>0.439257</td>\n",
              "      <td>0.33571</td>\n",
              "      <td>0.381507</td>\n",
              "      <td>0.0975897</td>\n",
              "      <td>0.428315</td>\n",
              "      <td>0</td>\n",
              "      <td>0</td>\n",
              "      <td>2020-04-28</td>\n",
              "    </tr>\n",
              "    <tr>\n",
              "      <th>243067</th>\n",
              "      <td>1</td>\n",
              "      <td>0.00223638</td>\n",
              "      <td>0.443866</td>\n",
              "      <td>0.389838</td>\n",
              "      <td>0.730481</td>\n",
              "      <td>0.725639</td>\n",
              "      <td>0.712612</td>\n",
              "      <td>0.700681</td>\n",
              "      <td>0.742023</td>\n",
              "      <td>0.441154</td>\n",
              "      <td>0.724926</td>\n",
              "      <td>0.132015</td>\n",
              "      <td>0.137365</td>\n",
              "      <td>0.117066</td>\n",
              "      <td>0.104509</td>\n",
              "      <td>0.165661</td>\n",
              "      <td>0.228977</td>\n",
              "      <td>0.10876</td>\n",
              "      <td>0.232079</td>\n",
              "      <td>0.25</td>\n",
              "      <td>1</td>\n",
              "      <td>2020-06-02</td>\n",
              "    </tr>\n",
              "    <tr>\n",
              "      <th>243068</th>\n",
              "      <td>1</td>\n",
              "      <td>0.0076579</td>\n",
              "      <td>0.417032</td>\n",
              "      <td>0.290993</td>\n",
              "      <td>0.71304</td>\n",
              "      <td>0.65701</td>\n",
              "      <td>0.640033</td>\n",
              "      <td>0.729798</td>\n",
              "      <td>0.72348</td>\n",
              "      <td>0.577308</td>\n",
              "      <td>0.691493</td>\n",
              "      <td>0.267219</td>\n",
              "      <td>0.447084</td>\n",
              "      <td>0.0811001</td>\n",
              "      <td>0.512467</td>\n",
              "      <td>0.314317</td>\n",
              "      <td>0.445213</td>\n",
              "      <td>0.115814</td>\n",
              "      <td>0.492832</td>\n",
              "      <td>0.5</td>\n",
              "      <td>1</td>\n",
              "      <td>2020-06-16</td>\n",
              "    </tr>\n",
              "    <tr>\n",
              "      <th>243069</th>\n",
              "      <td>1</td>\n",
              "      <td>6.7769e-05</td>\n",
              "      <td>0.443866</td>\n",
              "      <td>0.323788</td>\n",
              "      <td>0.75855</td>\n",
              "      <td>0.682727</td>\n",
              "      <td>0.668674</td>\n",
              "      <td>0.767063</td>\n",
              "      <td>0.72198</td>\n",
              "      <td>0.688846</td>\n",
              "      <td>0.763005</td>\n",
              "      <td>0.109056</td>\n",
              "      <td>0.10324</td>\n",
              "      <td>0.0825106</td>\n",
              "      <td>0.0885942</td>\n",
              "      <td>0.141525</td>\n",
              "      <td>0.173644</td>\n",
              "      <td>0.0717225</td>\n",
              "      <td>0.192204</td>\n",
              "      <td>0.5</td>\n",
              "      <td>1</td>\n",
              "      <td>2020-06-23</td>\n",
              "    </tr>\n",
              "    <tr>\n",
              "      <th>243070</th>\n",
              "      <td>1</td>\n",
              "      <td>0.0193819</td>\n",
              "      <td>0.423604</td>\n",
              "      <td>0.260508</td>\n",
              "      <td>0.669301</td>\n",
              "      <td>0.634392</td>\n",
              "      <td>0.614158</td>\n",
              "      <td>0.642848</td>\n",
              "      <td>0.681074</td>\n",
              "      <td>0.446538</td>\n",
              "      <td>0.666581</td>\n",
              "      <td>0.235969</td>\n",
              "      <td>0.27041</td>\n",
              "      <td>0.0641749</td>\n",
              "      <td>0.307692</td>\n",
              "      <td>0.269336</td>\n",
              "      <td>0.250455</td>\n",
              "      <td>0.095826</td>\n",
              "      <td>0.268369</td>\n",
              "      <td>0.5</td>\n",
              "      <td>1</td>\n",
              "      <td>2020-06-30</td>\n",
              "    </tr>\n",
              "  </tbody>\n",
              "</table>\n",
              "<p>243071 rows × 22 columns</p>\n",
              "</div>"
            ],
            "text/plain": [
              "       fips      PRECTOT        PS  ... score drought        date\n",
              "0         0     0.015248  0.910186  ...     0       0  2019-01-01\n",
              "1         0  0.000338845  0.911829  ...     0       0  2019-01-08\n",
              "2         0            0   0.92552  ...     0       0  2019-01-15\n",
              "3         0  0.000203307  0.927437  ...     0       0  2019-01-22\n",
              "4         0    0.0392383  0.906079  ...     0       0  2019-01-29\n",
              "...     ...          ...       ...  ...   ...     ...         ...\n",
              "243066    1   0.00223638  0.445509  ...     0       0  2020-04-28\n",
              "243067    1   0.00223638  0.443866  ...  0.25       1  2020-06-02\n",
              "243068    1    0.0076579  0.417032  ...   0.5       1  2020-06-16\n",
              "243069    1   6.7769e-05  0.443866  ...   0.5       1  2020-06-23\n",
              "243070    1    0.0193819  0.423604  ...   0.5       1  2020-06-30\n",
              "\n",
              "[243071 rows x 22 columns]"
            ]
          },
          "metadata": {
            "tags": []
          },
          "execution_count": 28
        }
      ]
    },
    {
      "cell_type": "code",
      "metadata": {
        "id": "qhtw_TUydXsj"
      },
      "source": [
        "#Separate Feature Variables and Target Variable\n",
        "X = drought_df.drop(['fips','date','score', 'drought'], axis =1)\n",
        "y = drought_df['drought']"
      ],
      "execution_count": null,
      "outputs": []
    },
    {
      "cell_type": "code",
      "metadata": {
        "colab": {
          "base_uri": "https://localhost:8080/"
        },
        "id": "5yMle1-zdnFq",
        "outputId": "52d63e06-6ce0-4064-d8e8-8ce156ae05f7"
      },
      "source": [
        "#Output the Proportion of no drought 222634 and drought 20437\n",
        "y.value_counts()"
      ],
      "execution_count": null,
      "outputs": [
        {
          "output_type": "execute_result",
          "data": {
            "text/plain": [
              "0    222634\n",
              "1     20437\n",
              "Name: drought, dtype: int64"
            ]
          },
          "metadata": {
            "tags": []
          },
          "execution_count": 30
        }
      ]
    },
    {
      "cell_type": "code",
      "metadata": {
        "colab": {
          "base_uri": "https://localhost:8080/"
        },
        "id": "W3DHgB-oFnE4",
        "outputId": "9cdfbe3a-42a2-422e-d8f3-83b9fc3d7b8c"
      },
      "source": [
        "#Output the Proportions of no drought 92% and drought 8%\n",
        "y.value_counts(1)"
      ],
      "execution_count": null,
      "outputs": [
        {
          "output_type": "execute_result",
          "data": {
            "text/plain": [
              "0    0.915922\n",
              "1    0.084078\n",
              "Name: drought, dtype: float64"
            ]
          },
          "metadata": {
            "tags": []
          },
          "execution_count": 31
        }
      ]
    },
    {
      "cell_type": "code",
      "metadata": {
        "id": "pwDHWnhvdwkC"
      },
      "source": [
        "# Normalize Features \n",
        "#Fitting Will Take a Couple of Minutes to Execute\n",
        "from sklearn.preprocessing import StandardScaler\n",
        "X = StandardScaler().fit_transform(X)"
      ],
      "execution_count": null,
      "outputs": []
    },
    {
      "cell_type": "code",
      "metadata": {
        "id": "sbY1hFqjdwgS"
      },
      "source": [
        "#Split Data to Train and Test Sets\n",
        "from sklearn.model_selection import train_test_split\n",
        "X_train, X_test, y_train, y_test = train_test_split(X, y, test_size=0.3, random_state=0)"
      ],
      "execution_count": null,
      "outputs": []
    },
    {
      "cell_type": "code",
      "metadata": {
        "colab": {
          "base_uri": "https://localhost:8080/"
        },
        "id": "bTpn4tnYmXMH",
        "outputId": "c41674f4-017b-4333-8971-56693eea166d"
      },
      "source": [
        "#Create Dummy Classifier With Most Frequent and Show Classifier Performance of 92%\n",
        "#Fitting Will Take a Couple of Minutes to Execute\n",
        "from sklearn.dummy import DummyClassifier\n",
        "dummy = DummyClassifier(strategy='most_frequent',random_state=0)\n",
        "dummy.fit(X_train, y_train)\n",
        "dummy_pred = dummy.predict(y_test)\n",
        "dummy.score(X_test, y_test)"
      ],
      "execution_count": null,
      "outputs": [
        {
          "output_type": "execute_result",
          "data": {
            "text/plain": [
              "0.9174048983845753"
            ]
          },
          "metadata": {
            "tags": []
          },
          "execution_count": 34
        }
      ]
    },
    {
      "cell_type": "markdown",
      "metadata": {
        "id": "7FwDqnEiT_Zw"
      },
      "source": [
        "### **Decision Tree (DT)**"
      ]
    },
    {
      "cell_type": "code",
      "metadata": {
        "id": "V8w6vA88TtpD"
      },
      "source": [
        "#Fine Tune The Decision Tree Parameter With GridSearch.\n",
        "from sklearn.model_selection import GridSearchCV\n",
        "param_dist_grid = {\n",
        "    'min_samples_leaf' : range(1,10,2),\n",
        "    'max_depth': range(1,10,2),\n",
        "    'criterion'  :  ['gini', 'entropy']}"
      ],
      "execution_count": null,
      "outputs": []
    },
    {
      "cell_type": "code",
      "metadata": {
        "id": "C8f-O0LZHeaf"
      },
      "source": [
        "#Illustrate the Decision Tree Classifier Method\n",
        "from sklearn.tree import DecisionTreeClassifier\n",
        "clf_tree = DecisionTreeClassifier()\n",
        "clf =  GridSearchCV(clf_tree,param_dist_grid)"
      ],
      "execution_count": null,
      "outputs": []
    },
    {
      "cell_type": "code",
      "metadata": {
        "colab": {
          "base_uri": "https://localhost:8080/"
        },
        "id": "bYrnH-yDinzD",
        "outputId": "715004ad-22b9-4411-945f-052705ee2e26"
      },
      "source": [
        "#Fit CLF Model to Train Data\n",
        "#Fitting Will Take a Couple of Minutes to Execute\n",
        "clf.fit(X_train, y_train)"
      ],
      "execution_count": null,
      "outputs": [
        {
          "output_type": "execute_result",
          "data": {
            "text/plain": [
              "GridSearchCV(cv=None, error_score=nan,\n",
              "             estimator=DecisionTreeClassifier(ccp_alpha=0.0, class_weight=None,\n",
              "                                              criterion='gini', max_depth=None,\n",
              "                                              max_features=None,\n",
              "                                              max_leaf_nodes=None,\n",
              "                                              min_impurity_decrease=0.0,\n",
              "                                              min_impurity_split=None,\n",
              "                                              min_samples_leaf=1,\n",
              "                                              min_samples_split=2,\n",
              "                                              min_weight_fraction_leaf=0.0,\n",
              "                                              presort='deprecated',\n",
              "                                              random_state=None,\n",
              "                                              splitter='best'),\n",
              "             iid='deprecated', n_jobs=None,\n",
              "             param_grid={'criterion': ['gini', 'entropy'],\n",
              "                         'max_depth': range(1, 10, 2),\n",
              "                         'min_samples_leaf': range(1, 10, 2)},\n",
              "             pre_dispatch='2*n_jobs', refit=True, return_train_score=False,\n",
              "             scoring=None, verbose=0)"
            ]
          },
          "metadata": {
            "tags": []
          },
          "execution_count": 37
        }
      ]
    },
    {
      "cell_type": "code",
      "metadata": {
        "colab": {
          "base_uri": "https://localhost:8080/"
        },
        "id": "cQQkI1c6isGH",
        "outputId": "cd8de6fd-e582-4572-ea1b-5953d20107f4"
      },
      "source": [
        "#Show The Optimal Parameters\n",
        "clf.best_params_"
      ],
      "execution_count": null,
      "outputs": [
        {
          "output_type": "execute_result",
          "data": {
            "text/plain": [
              "{'criterion': 'entropy', 'max_depth': 9, 'min_samples_leaf': 5}"
            ]
          },
          "metadata": {
            "tags": []
          },
          "execution_count": 38
        }
      ]
    },
    {
      "cell_type": "code",
      "metadata": {
        "colab": {
          "base_uri": "https://localhost:8080/"
        },
        "id": "Lw4b7wmwi5FP",
        "outputId": "7fc9bb1d-b28f-4b5e-c4a5-e2bdfe885ff1"
      },
      "source": [
        "#Present The Performance Metric Best Score\n",
        "clf.best_score_"
      ],
      "execution_count": null,
      "outputs": [
        {
          "output_type": "execute_result",
          "data": {
            "text/plain": [
              "0.9194999718784052"
            ]
          },
          "metadata": {
            "tags": []
          },
          "execution_count": 39
        }
      ]
    },
    {
      "cell_type": "code",
      "metadata": {
        "colab": {
          "base_uri": "https://localhost:8080/"
        },
        "id": "Dm-4Xb8YinvX",
        "outputId": "2c3b700b-23d4-41da-8c96-42460f66a341"
      },
      "source": [
        "#Display The Estimator Variable\n",
        "dt_model_best = clf.best_estimator_\n",
        "print(dt_model_best)"
      ],
      "execution_count": null,
      "outputs": [
        {
          "output_type": "stream",
          "text": [
            "DecisionTreeClassifier(ccp_alpha=0.0, class_weight=None, criterion='entropy',\n",
            "                       max_depth=9, max_features=None, max_leaf_nodes=None,\n",
            "                       min_impurity_decrease=0.0, min_impurity_split=None,\n",
            "                       min_samples_leaf=5, min_samples_split=2,\n",
            "                       min_weight_fraction_leaf=0.0, presort='deprecated',\n",
            "                       random_state=None, splitter='best')\n"
          ],
          "name": "stdout"
        }
      ]
    },
    {
      "cell_type": "code",
      "metadata": {
        "id": "XHBp96mFjQCn"
      },
      "source": [
        "#Predict The Use of the Test Data On The Optimal Parameters\n",
        "y_pred_best = dt_model_best.predict(X_test)"
      ],
      "execution_count": null,
      "outputs": []
    },
    {
      "cell_type": "code",
      "metadata": {
        "colab": {
          "base_uri": "https://localhost:8080/"
        },
        "id": "hg6Go0v6jUGa",
        "outputId": "4b1ca4a9-e40e-4dbf-94f4-4f2058fda617"
      },
      "source": [
        "#Display The Classification Report Metric of the New Data\n",
        "from sklearn.metrics import classification_report\n",
        "print(classification_report(y_test, y_pred_best))"
      ],
      "execution_count": null,
      "outputs": [
        {
          "output_type": "stream",
          "text": [
            "              precision    recall  f1-score   support\n",
            "\n",
            "           0       0.93      0.99      0.96     66899\n",
            "           1       0.60      0.14      0.23      6023\n",
            "\n",
            "    accuracy                           0.92     72922\n",
            "   macro avg       0.76      0.57      0.59     72922\n",
            "weighted avg       0.90      0.92      0.90     72922\n",
            "\n"
          ],
          "name": "stdout"
        }
      ]
    },
    {
      "cell_type": "code",
      "metadata": {
        "colab": {
          "base_uri": "https://localhost:8080/",
          "height": 304
        },
        "id": "MMPRBLwDoyV7",
        "outputId": "681923bb-1bfe-450c-a6a0-b984775459be"
      },
      "source": [
        "#Create ROC Curve and Display AUC Value\n",
        "from sklearn import metrics \n",
        "metrics.plot_roc_curve(clf, X_test, y_test)\n",
        "plt.plot([0,1],[0,1])"
      ],
      "execution_count": null,
      "outputs": [
        {
          "output_type": "execute_result",
          "data": {
            "text/plain": [
              "[<matplotlib.lines.Line2D at 0x7ff8f4db7e90>]"
            ]
          },
          "metadata": {
            "tags": []
          },
          "execution_count": 43
        },
        {
          "output_type": "display_data",
          "data": {
            "image/png": "[encoded data removed]",
            "text/plain": [
              "<Figure size 432x288 with 1 Axes>"
            ]
          },
          "metadata": {
            "tags": [],
            "needs_background": "light"
          }
        }
      ]
    },
    {
      "cell_type": "markdown",
      "metadata": {
        "id": "OdASF_0Ga9kt"
      },
      "source": [
        "### **Check Over-Fitting Post Tuning**"
      ]
    },
    {
      "cell_type": "code",
      "metadata": {
        "id": "cv8ErPbdHfvN"
      },
      "source": [
        "#Predict for Both Training and Testing Data\n",
        "tree_predicted_test   = dt_model_best.predict(X_test)\n",
        "tree_predicted_train  = dt_model_best.predict(X_train)"
      ],
      "execution_count": null,
      "outputs": []
    },
    {
      "cell_type": "code",
      "metadata": {
        "colab": {
          "base_uri": "https://localhost:8080/"
        },
        "id": "G0zzNWcDjuDt",
        "outputId": "3067cbb0-e5e6-49df-b70c-3aa59089b048"
      },
      "source": [
        "#Show Accuracy Score for Both Training and Testing Data\n",
        "print('The Training accuracy Score is', metrics.accuracy_score(tree_predicted_train, y_train))\n",
        "print('The Testing accuracy Score is', metrics.accuracy_score(tree_predicted_test, y_test))"
      ],
      "execution_count": null,
      "outputs": [
        {
          "output_type": "stream",
          "text": [
            "The Training accuracy Score is 0.9243545363181682\n",
            "The Testing accuracy Score is 0.9210800581443186\n"
          ],
          "name": "stdout"
        }
      ]
    },
    {
      "cell_type": "markdown",
      "metadata": {
        "id": "3BXpzzi_epDI"
      },
      "source": [
        "### *Feature Importance*"
      ]
    },
    {
      "cell_type": "code",
      "metadata": {
        "id": "7O6310ULZw0n"
      },
      "source": [
        "#Copy the Columns Name to Features\n",
        "features = ['PRECTOT',\t'PS',\t'QV2M',\t'T2M',\t'T2MDEW',\t'T2MWET',\t'T2M_MAX',\t'T2M_MIN',\t'T2M_RANGE',\t'TS',\t'WS10M',\t'WS10M_MAX',\t'WS10M_MIN',\t'WS10M_RANGE',\t'WS50M',\t'WS50M_MAX',\t'WS50M_MIN',\t'WS50M_RANGE']"
      ],
      "execution_count": null,
      "outputs": []
    },
    {
      "cell_type": "code",
      "metadata": {
        "colab": {
          "base_uri": "https://localhost:8080/",
          "height": 1000
        },
        "id": "fUhl0DZfkH77",
        "outputId": "eb27be2a-085d-44bb-936f-28d0cfb7179f"
      },
      "source": [
        "#Visualize The Importances of The Top Most Important Features\n",
        "importances = dt_model_best.feature_importances_\n",
        "indices = np.argsort(importances)\n",
        "#Customized Number of Features\n",
        "num_features = 18\n",
        "plt.figure(figsize=(18,18))\n",
        "plt.title('Feature Importances')\n",
        "#Plot the Customized Number of Features\n",
        "plt.barh(range(num_features), importances[indices[-num_features:]], color='b', align='center')\n",
        "plt.yticks(range(num_features), [features[i] for i in indices[-num_features:]])\n",
        "plt.xlabel('Relative Importance')\n",
        "plt.show()"
      ],
      "execution_count": null,
      "outputs": [
        {
          "output_type": "display_data",
          "data": {
            "image/png": "[encoded data removed]",
            "text/plain": [
              "<Figure size 1296x1296 with 1 Axes>"
            ]
          },
          "metadata": {
            "tags": [],
            "needs_background": "light"
          }
        }
      ]
    },
    {
      "cell_type": "code",
      "metadata": {
        "colab": {
          "base_uri": "https://localhost:8080/"
        },
        "id": "eHoqf8oeIRP9",
        "outputId": "444ae9c6-a925-4d25-de6f-802b46e7f9f6"
      },
      "source": [
        "#List The Importances of The Top Most Important Features\n",
        "for importance, name in sorted(zip(dt_model_best.feature_importances_, features),reverse=True):\n",
        "   print (name, importance)"
      ],
      "execution_count": null,
      "outputs": [
        {
          "output_type": "stream",
          "text": [
            "PS 0.21835833860927972\n",
            "T2M_RANGE 0.1066309926531068\n",
            "QV2M 0.10286684430144587\n",
            "T2M_MIN 0.09870529654977554\n",
            "T2M_MAX 0.09263934683687709\n",
            "TS 0.0545411073515591\n",
            "T2MDEW 0.05076153395234806\n",
            "T2MWET 0.04627107940062385\n",
            "PRECTOT 0.04057810781795468\n",
            "WS10M_RANGE 0.03481393114013916\n",
            "WS50M_MAX 0.028418862343699103\n",
            "WS50M_MIN 0.02438852384476413\n",
            "WS10M_MIN 0.020879856160036146\n",
            "T2M 0.0190363055395839\n",
            "WS50M_RANGE 0.019026427661431172\n",
            "WS50M 0.018668008336272857\n",
            "WS10M_MAX 0.016921576900674973\n",
            "WS10M 0.006493860600427746\n"
          ],
          "name": "stdout"
        }
      ]
    },
    {
      "cell_type": "markdown",
      "metadata": {
        "id": "c1pnJjKUJ9a2"
      },
      "source": [
        "### *K-Nearest Neighbors (KNN)*"
      ]
    },
    {
      "cell_type": "code",
      "metadata": {
        "id": "UK61t1KRA9oj"
      },
      "source": [
        "#Construct the Number of Neighbors Performance\n",
        "from sklearn import neighbors\n",
        "nbrs = 3\n",
        "knn = neighbors.KNeighborsClassifier(n_neighbors=nbrs)"
      ],
      "execution_count": null,
      "outputs": []
    },
    {
      "cell_type": "code",
      "metadata": {
        "colab": {
          "base_uri": "https://localhost:8080/"
        },
        "id": "1rJbacGjuydK",
        "outputId": "0cad8957-4095-4427-ec18-548918f5a1c3"
      },
      "source": [
        "#Illustrate the KNN\n",
        "knn"
      ],
      "execution_count": null,
      "outputs": [
        {
          "output_type": "execute_result",
          "data": {
            "text/plain": [
              "KNeighborsClassifier(algorithm='auto', leaf_size=30, metric='minkowski',\n",
              "                     metric_params=None, n_jobs=None, n_neighbors=3, p=2,\n",
              "                     weights='uniform')"
            ]
          },
          "metadata": {
            "tags": []
          },
          "execution_count": 50
        }
      ]
    },
    {
      "cell_type": "code",
      "metadata": {
        "colab": {
          "base_uri": "https://localhost:8080/"
        },
        "id": "6UccAk6Lu0N0",
        "outputId": "bd19ebd9-d175-47a7-f24d-d72ce38a48ac"
      },
      "source": [
        "#Fit KNN Model to Train Data\n",
        "#Fitting Will Take a Couple of Minutes to Execute\n",
        "knn.fit(X_train, y_train)"
      ],
      "execution_count": null,
      "outputs": [
        {
          "output_type": "execute_result",
          "data": {
            "text/plain": [
              "KNeighborsClassifier(algorithm='auto', leaf_size=30, metric='minkowski',\n",
              "                     metric_params=None, n_jobs=None, n_neighbors=3, p=2,\n",
              "                     weights='uniform')"
            ]
          },
          "metadata": {
            "tags": []
          },
          "execution_count": 51
        }
      ]
    },
    {
      "cell_type": "code",
      "metadata": {
        "id": "Pi_W0UKUgtRw"
      },
      "source": [
        "#Predict The Use of the Test Data On The Optimal Parameters\n",
        "y_pred_knn = knn.predict(X_test)"
      ],
      "execution_count": null,
      "outputs": []
    },
    {
      "cell_type": "code",
      "metadata": {
        "colab": {
          "base_uri": "https://localhost:8080/"
        },
        "id": "PS-gARxAgtSX",
        "outputId": "23508caa-1514-41eb-d070-091e8565d51a"
      },
      "source": [
        "#Display The Classification Report Metric of the K-Nearest Neighbors\n",
        "print(classification_report(y_test, y_pred_knn))"
      ],
      "execution_count": null,
      "outputs": [
        {
          "output_type": "stream",
          "text": [
            "              precision    recall  f1-score   support\n",
            "\n",
            "           0       0.96      0.98      0.97     66899\n",
            "           1       0.73      0.52      0.61      6023\n",
            "\n",
            "    accuracy                           0.95     72922\n",
            "   macro avg       0.85      0.75      0.79     72922\n",
            "weighted avg       0.94      0.95      0.94     72922\n",
            "\n"
          ],
          "name": "stdout"
        }
      ]
    },
    {
      "cell_type": "code",
      "metadata": {
        "colab": {
          "base_uri": "https://localhost:8080/",
          "height": 304
        },
        "id": "yvMcRqzFiMyg",
        "outputId": "0df43e58-4554-4aef-ece3-2998c4bcaeac"
      },
      "source": [
        "#Create ROC Curve and Display AUC Value\n",
        "metrics.plot_roc_curve(knn, X_test, y_test)\n",
        "plt.plot([0,1],[0,1])"
      ],
      "execution_count": null,
      "outputs": [
        {
          "output_type": "execute_result",
          "data": {
            "text/plain": [
              "[<matplotlib.lines.Line2D at 0x7ff8f4c71a10>]"
            ]
          },
          "metadata": {
            "tags": []
          },
          "execution_count": 54
        },
        {
          "output_type": "display_data",
          "data": {
            "image/png": "[encoded data removed]",
            "text/plain": [
              "<Figure size 432x288 with 1 Axes>"
            ]
          },
          "metadata": {
            "tags": [],
            "needs_background": "light"
          }
        }
      ]
    },
    {
      "cell_type": "markdown",
      "metadata": {
        "id": "wRBFzWVbCSEh"
      },
      "source": [
        "### *Logistic Regression (LR)*"
      ]
    },
    {
      "cell_type": "code",
      "metadata": {
        "id": "vkcjau34wjqi"
      },
      "source": [
        "#Fine Tune The Logistic Regression Parameter With GridSearch.\n",
        "from sklearn.linear_model import LogisticRegression  \n",
        "clf_log = LogisticRegression()\n",
        "grid_values = { 'penalty': ['l1', 'l2'],\n",
        "                 'C' : [0.001, 0.009, 0.01, 0.09, 1, 3, 5 , 7, 10, 25, 50, 100]\n",
        "                 }"
      ],
      "execution_count": null,
      "outputs": []
    },
    {
      "cell_type": "code",
      "metadata": {
        "id": "Rm46F8G1x3-5"
      },
      "source": [
        "#Illustrate the Logistic Regression Classifier Method\n",
        "clf_lr = GridSearchCV(clf_log, param_grid= grid_values, scoring= 'recall'  )"
      ],
      "execution_count": null,
      "outputs": []
    },
    {
      "cell_type": "code",
      "metadata": {
        "id": "zs0DaM2fy4a6",
        "colab": {
          "base_uri": "https://localhost:8080/"
        },
        "outputId": "4784368a-e651-4f22-bfe7-50722a80ef17"
      },
      "source": [
        "#Fit CLF Model to Train Data\n",
        "#Fitting Will Take a Couple of Minutes to Execute\n",
        "clf_lr.fit(X_train, y_train)"
      ],
      "execution_count": null,
      "outputs": [
        {
          "output_type": "execute_result",
          "data": {
            "text/plain": [
              "GridSearchCV(cv=None, error_score=nan,\n",
              "             estimator=LogisticRegression(C=1.0, class_weight=None, dual=False,\n",
              "                                          fit_intercept=True,\n",
              "                                          intercept_scaling=1, l1_ratio=None,\n",
              "                                          max_iter=100, multi_class='auto',\n",
              "                                          n_jobs=None, penalty='l2',\n",
              "                                          random_state=None, solver='lbfgs',\n",
              "                                          tol=0.0001, verbose=0,\n",
              "                                          warm_start=False),\n",
              "             iid='deprecated', n_jobs=None,\n",
              "             param_grid={'C': [0.001, 0.009, 0.01, 0.09, 1, 3, 5, 7, 10, 25, 50,\n",
              "                               100],\n",
              "                         'penalty': ['l1', 'l2']},\n",
              "             pre_dispatch='2*n_jobs', refit=True, return_train_score=False,\n",
              "             scoring='recall', verbose=0)"
            ]
          },
          "metadata": {
            "tags": []
          },
          "execution_count": 57
        }
      ]
    },
    {
      "cell_type": "code",
      "metadata": {
        "id": "9A6fjv4hzON7"
      },
      "source": [
        "#Predict The Use of the Test Data On The Optimal Parameters\n",
        "y_pred_lr = clf_lr.predict(X_test)"
      ],
      "execution_count": null,
      "outputs": []
    },
    {
      "cell_type": "code",
      "metadata": {
        "id": "wETqtLIbzes_",
        "colab": {
          "base_uri": "https://localhost:8080/"
        },
        "outputId": "5a6cba6a-c717-4ec0-b86f-48d824135baf"
      },
      "source": [
        "#Display The Classification Report Metric of the Logistic Regression\n",
        "print(classification_report(y_test, y_pred_lr))"
      ],
      "execution_count": null,
      "outputs": [
        {
          "output_type": "stream",
          "text": [
            "              precision    recall  f1-score   support\n",
            "\n",
            "           0       0.92      1.00      0.96     66899\n",
            "           1       0.47      0.04      0.07      6023\n",
            "\n",
            "    accuracy                           0.92     72922\n",
            "   macro avg       0.69      0.52      0.51     72922\n",
            "weighted avg       0.88      0.92      0.88     72922\n",
            "\n"
          ],
          "name": "stdout"
        }
      ]
    },
    {
      "cell_type": "code",
      "metadata": {
        "id": "Vn4AOYzmbY6S",
        "colab": {
          "base_uri": "https://localhost:8080/",
          "height": 304
        },
        "outputId": "75e095fe-ee0f-4249-b8f0-2d2a9c6065e7"
      },
      "source": [
        "#Create ROC Curve and Display AUC Value\n",
        "metrics.plot_roc_curve(clf_lr, X_test, y_test)\n",
        "plt.plot([0,1],[0,1])"
      ],
      "execution_count": null,
      "outputs": [
        {
          "output_type": "execute_result",
          "data": {
            "text/plain": [
              "[<matplotlib.lines.Line2D at 0x7ff8f4bfd910>]"
            ]
          },
          "metadata": {
            "tags": []
          },
          "execution_count": 60
        },
        {
          "output_type": "display_data",
          "data": {
            "image/png": "[encoded data removed]",
            "text/plain": [
              "<Figure size 432x288 with 1 Axes>"
            ]
          },
          "metadata": {
            "tags": [],
            "needs_background": "light"
          }
        }
      ]
    },
    {
      "cell_type": "markdown",
      "metadata": {
        "id": "-ChCPvxPbAxN"
      },
      "source": [
        "### *Classification Model Evaluation for LR, KNN, and DT*"
      ]
    },
    {
      "cell_type": "code",
      "metadata": {
        "id": "O17ARalal99W"
      },
      "source": [
        "#Define the Classification Model Evaluation for LR, KNN, and DT\n",
        "def classification_model_evaluation(X,y,score):\n",
        "    # scoring optioon: accuracy, f1_macro, precision_macro, recall_macro\n",
        "    from sklearn.preprocessing import LabelBinarizer\n",
        "    from sklearn.metrics import roc_curve,roc_auc_score,auc\n",
        "\n",
        "    \n",
        "    # import models\n",
        "    import pandas\n",
        "    import matplotlib.pyplot as plt\n",
        "    from sklearn import model_selection\n",
        "    from sklearn.linear_model import LogisticRegression\n",
        "    from sklearn.tree import DecisionTreeClassifier\n",
        "    from sklearn.neighbors import KNeighborsClassifier\n",
        "    from sklearn.discriminant_analysis import LinearDiscriminantAnalysis\n",
        "    from sklearn.naive_bayes import GaussianNB\n",
        "    from sklearn.svm import SVC\n",
        "    from sklearn.ensemble import RandomForestClassifier\n",
        "    from sklearn.model_selection import train_test_split\n",
        "    X_train, X_test, y_train, y_test  = train_test_split(X, y, test_size=0.3, random_state=10, stratify =y)\n",
        "\n",
        "    # load models\n",
        "    seed = 1\n",
        "    models = []\n",
        "    models.append(('LR', LogisticRegression(C=100)))\n",
        "    models.append(('KNN', KNeighborsClassifier(5)))\n",
        "    models.append(('DT', DecisionTreeClassifier()))\n",
        "    #models.append(('NB', GaussianNB()))\n",
        "    #models.append(('SVM', SVC()))\n",
        "    #models.append(('LDA', LinearDiscriminantAnalysis()))\n",
        "    #models.append(('RF',RandomForestClassifier()))\n",
        "    \n",
        "    results = []\n",
        "    names = []\n",
        "    models_summary = {}\n",
        "    scoring = score\n",
        "    # Define a result table as a DataFrame\n",
        "    result_table = pd.DataFrame(columns=['classifiers', 'fpr','tpr','auc'])\n",
        "    for name, model in models:\n",
        "        kfold = model_selection.KFold(n_splits=10, random_state=seed)\n",
        "        cv_results = model_selection.cross_val_score(model, X, y, cv=kfold, scoring=scoring)\n",
        "        results.append(cv_results)\n",
        "        names.append(name)\n",
        "        #print(\"%s: %f (%f)\" % (name, cv_results.mean(), cv_results.std()))\n",
        "        models_summary[name] = ([cv_results.mean(),cv_results.std()])\n",
        "        \n",
        "\n",
        "        cls = model.fit(X_train,y_train)\n",
        "        yproba = cls.predict_proba(X_test)[::,1]\n",
        "        fpr, tpr, _ = roc_curve(y_test,  yproba)\n",
        "        auc = roc_auc_score(y_test, yproba)\n",
        "    \n",
        "        result_table = result_table.append({'classifiers':cls.__class__.__name__,\n",
        "                                            'fpr':fpr, \n",
        "                                            'tpr':tpr, \n",
        "                                            'auc':auc}, ignore_index=True)\n",
        "    \n",
        "    models_summary_df = pd.DataFrame(models_summary,index=[str(score) + '_mean', str(score) + '_stdev'])\n",
        "\n",
        "    #  model comparison boxplot\n",
        "    fig = plt.figure(figsize=(10,6))\n",
        "    fig.suptitle('Model Comparison \\n Scoring: %s' %scoring)\n",
        "    ax = fig.add_subplot(111)\n",
        "    boxplot_results = pd.DataFrame(results, index=names)\n",
        "    boxplot_results.assign(m=boxplot_results.mean(axis=1)).sort_values('m').drop('m', axis=1)\n",
        "    \n",
        "    plt.boxplot(results)\n",
        "    ax.set_xticklabels(names)\n",
        "    plt.grid()\n",
        "    plt.show()\n",
        "    #print(results)\n",
        "    \n",
        "\n",
        "    # Set name of the classifiers as index labels\n",
        "    result_table.set_index('classifiers', inplace=True)\n",
        "\n",
        "    fig = plt.figure(figsize=(10,6))\n",
        "\n",
        "    for i in result_table.index:\n",
        "        plt.plot(result_table.loc[i]['fpr'], \n",
        "                 result_table.loc[i]['tpr'], \n",
        "                 label=\"{}, AUC={:.3f}\".format(i, result_table.loc[i]['auc']))\n",
        "\n",
        "    plt.plot([0,1], [0,1], color='orange', linestyle='--')\n",
        "\n",
        "    plt.xticks(np.arange(0.0, 1.1, step=0.1))\n",
        "    plt.xlabel(\"False Positive Rate\", fontsize=15)\n",
        "\n",
        "    plt.yticks(np.arange(0.0, 1.1, step=0.1))\n",
        "    plt.ylabel(\"True Positive Rate\", fontsize=15)\n",
        "\n",
        "    plt.title('ROC Curve Analysis', fontweight='bold', fontsize=15)\n",
        "    plt.legend(prop={'size':13}, loc='lower right')\n",
        "    plt.grid()\n",
        "    plt.show()\n",
        "    \n",
        "    display(models_summary_df.head(2))"
      ],
      "execution_count": null,
      "outputs": []
    },
    {
      "cell_type": "code",
      "metadata": {
        "colab": {
          "base_uri": "https://localhost:8080/",
          "height": 910
        },
        "id": "M0g4pNmUrWDH",
        "outputId": "8ea4fab5-0ffd-449b-84da-dcaa84fd9b9c"
      },
      "source": [
        "#Display the Classification Model Evaluation for LR, KNN, and DT\n",
        "#Function Will Take a Couple of Minutes to Execute\n",
        "classification_model_evaluation(X, y, 'f1_macro')"
      ],
      "execution_count": null,
      "outputs": [
        {
          "output_type": "display_data",
          "data": {
            "image/png": "[encoded data removed]",
            "text/plain": [
              "<Figure size 720x432 with 1 Axes>"
            ]
          },
          "metadata": {
            "tags": [],
            "needs_background": "light"
          }
        },
        {
          "output_type": "display_data",
          "data": {
            "image/png": "[encoded data removed]",
            "text/plain": [
              "<Figure size 720x432 with 1 Axes>"
            ]
          },
          "metadata": {
            "tags": [],
            "needs_background": "light"
          }
        },
        {
          "output_type": "display_data",
          "data": {
            "text/html": [
              "<div>\n",
              "<style scoped>\n",
              "    .dataframe tbody tr th:only-of-type {\n",
              "        vertical-align: middle;\n",
              "    }\n",
              "\n",
              "    .dataframe tbody tr th {\n",
              "        vertical-align: top;\n",
              "    }\n",
              "\n",
              "    .dataframe thead th {\n",
              "        text-align: right;\n",
              "    }\n",
              "</style>\n",
              "<table border=\"1\" class=\"dataframe\">\n",
              "  <thead>\n",
              "    <tr style=\"text-align: right;\">\n",
              "      <th></th>\n",
              "      <th>LR</th>\n",
              "      <th>KNN</th>\n",
              "      <th>DT</th>\n",
              "    </tr>\n",
              "  </thead>\n",
              "  <tbody>\n",
              "    <tr>\n",
              "      <th>f1_macro_mean</th>\n",
              "      <td>0.503964</td>\n",
              "      <td>0.632088</td>\n",
              "      <td>0.618880</td>\n",
              "    </tr>\n",
              "    <tr>\n",
              "      <th>f1_macro_stdev</th>\n",
              "      <td>0.027639</td>\n",
              "      <td>0.019441</td>\n",
              "      <td>0.017471</td>\n",
              "    </tr>\n",
              "  </tbody>\n",
              "</table>\n",
              "</div>"
            ],
            "text/plain": [
              "                      LR       KNN        DT\n",
              "f1_macro_mean   0.503964  0.632088  0.618880\n",
              "f1_macro_stdev  0.027639  0.019441  0.017471"
            ]
          },
          "metadata": {
            "tags": []
          }
        }
      ]
    }
  ]
}